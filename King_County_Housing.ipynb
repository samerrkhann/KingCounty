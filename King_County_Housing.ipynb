{
 "cells": [
  {
   "cell_type": "markdown",
   "metadata": {},
   "source": [
    "# Making Necessary Imports"
   ]
  },
  {
   "cell_type": "code",
   "execution_count": 1,
   "metadata": {},
   "outputs": [],
   "source": [
    "import pandas as pd\n",
    "import numpy as np\n",
    "import matplotlib\n",
    "import matplotlib.pyplot as plt\n",
    "import seaborn as sns\n",
    "%matplotlib inline\n",
    "#to ignore warning\n",
    "pd.options.mode.chained_assignment = None  # default='warn'"
   ]
  },
  {
   "cell_type": "markdown",
   "metadata": {},
   "source": [
    "# Importing Data"
   ]
  },
  {
   "cell_type": "code",
   "execution_count": 2,
   "metadata": {},
   "outputs": [],
   "source": [
    "df=pd.read_csv('kc_house_data.csv')"
   ]
  },
  {
   "cell_type": "markdown",
   "metadata": {},
   "source": [
    "In this dataset, it is used these feature:\n",
    "\n",
    "- id: house id\n",
    "- date: date that the house was bought.\n",
    "- price: house price\n",
    "- bedrooms: number of bedroom\n",
    "- bathrooms: number of bathroom\n",
    "- sqft_living: Square foot Living\n",
    "- sqft_lot: Square foot Lot\n",
    "- floors: Number of floor\n",
    "- waterfront: waterfront\n",
    "- view: Number of view\n",
    "- condition: condition\n",
    "- grade: grade\n",
    "- sqft_above: Square foot above\n",
    "- sqft_basement: Square foot basement\n",
    "- yr_built: year that house was built\n",
    "- yr_renovated: year that house was renovated\n",
    "- zipcode: zipcode\n",
    "- lat: latitude\n",
    "- long: longitude\n",
    "- sqft_living15: Square foot Living in 2015\n",
    "- sqft_lot15: Square foot Lot in 2015\n"
   ]
  },
  {
   "cell_type": "code",
   "execution_count": 3,
   "metadata": {},
   "outputs": [
    {
     "data": {
      "text/html": [
       "<div>\n",
       "<style scoped>\n",
       "    .dataframe tbody tr th:only-of-type {\n",
       "        vertical-align: middle;\n",
       "    }\n",
       "\n",
       "    .dataframe tbody tr th {\n",
       "        vertical-align: top;\n",
       "    }\n",
       "\n",
       "    .dataframe thead th {\n",
       "        text-align: right;\n",
       "    }\n",
       "</style>\n",
       "<table border=\"1\" class=\"dataframe\">\n",
       "  <thead>\n",
       "    <tr style=\"text-align: right;\">\n",
       "      <th></th>\n",
       "      <th>id</th>\n",
       "      <th>date</th>\n",
       "      <th>price</th>\n",
       "      <th>bedrooms</th>\n",
       "      <th>bathrooms</th>\n",
       "      <th>sqft_living</th>\n",
       "      <th>sqft_lot</th>\n",
       "      <th>floors</th>\n",
       "      <th>waterfront</th>\n",
       "      <th>view</th>\n",
       "      <th>...</th>\n",
       "      <th>grade</th>\n",
       "      <th>sqft_above</th>\n",
       "      <th>sqft_basement</th>\n",
       "      <th>yr_built</th>\n",
       "      <th>yr_renovated</th>\n",
       "      <th>zipcode</th>\n",
       "      <th>lat</th>\n",
       "      <th>long</th>\n",
       "      <th>sqft_living15</th>\n",
       "      <th>sqft_lot15</th>\n",
       "    </tr>\n",
       "  </thead>\n",
       "  <tbody>\n",
       "    <tr>\n",
       "      <th>0</th>\n",
       "      <td>7129300520</td>\n",
       "      <td>20141013T000000</td>\n",
       "      <td>221900.0</td>\n",
       "      <td>3</td>\n",
       "      <td>1.00</td>\n",
       "      <td>1180</td>\n",
       "      <td>5650</td>\n",
       "      <td>1.0</td>\n",
       "      <td>0</td>\n",
       "      <td>0</td>\n",
       "      <td>...</td>\n",
       "      <td>7</td>\n",
       "      <td>1180</td>\n",
       "      <td>0</td>\n",
       "      <td>1955</td>\n",
       "      <td>0</td>\n",
       "      <td>98178</td>\n",
       "      <td>47.5112</td>\n",
       "      <td>-122.257</td>\n",
       "      <td>1340</td>\n",
       "      <td>5650</td>\n",
       "    </tr>\n",
       "    <tr>\n",
       "      <th>1</th>\n",
       "      <td>6414100192</td>\n",
       "      <td>20141209T000000</td>\n",
       "      <td>538000.0</td>\n",
       "      <td>3</td>\n",
       "      <td>2.25</td>\n",
       "      <td>2570</td>\n",
       "      <td>7242</td>\n",
       "      <td>2.0</td>\n",
       "      <td>0</td>\n",
       "      <td>0</td>\n",
       "      <td>...</td>\n",
       "      <td>7</td>\n",
       "      <td>2170</td>\n",
       "      <td>400</td>\n",
       "      <td>1951</td>\n",
       "      <td>1991</td>\n",
       "      <td>98125</td>\n",
       "      <td>47.7210</td>\n",
       "      <td>-122.319</td>\n",
       "      <td>1690</td>\n",
       "      <td>7639</td>\n",
       "    </tr>\n",
       "    <tr>\n",
       "      <th>2</th>\n",
       "      <td>5631500400</td>\n",
       "      <td>20150225T000000</td>\n",
       "      <td>180000.0</td>\n",
       "      <td>2</td>\n",
       "      <td>1.00</td>\n",
       "      <td>770</td>\n",
       "      <td>10000</td>\n",
       "      <td>1.0</td>\n",
       "      <td>0</td>\n",
       "      <td>0</td>\n",
       "      <td>...</td>\n",
       "      <td>6</td>\n",
       "      <td>770</td>\n",
       "      <td>0</td>\n",
       "      <td>1933</td>\n",
       "      <td>0</td>\n",
       "      <td>98028</td>\n",
       "      <td>47.7379</td>\n",
       "      <td>-122.233</td>\n",
       "      <td>2720</td>\n",
       "      <td>8062</td>\n",
       "    </tr>\n",
       "    <tr>\n",
       "      <th>3</th>\n",
       "      <td>2487200875</td>\n",
       "      <td>20141209T000000</td>\n",
       "      <td>604000.0</td>\n",
       "      <td>4</td>\n",
       "      <td>3.00</td>\n",
       "      <td>1960</td>\n",
       "      <td>5000</td>\n",
       "      <td>1.0</td>\n",
       "      <td>0</td>\n",
       "      <td>0</td>\n",
       "      <td>...</td>\n",
       "      <td>7</td>\n",
       "      <td>1050</td>\n",
       "      <td>910</td>\n",
       "      <td>1965</td>\n",
       "      <td>0</td>\n",
       "      <td>98136</td>\n",
       "      <td>47.5208</td>\n",
       "      <td>-122.393</td>\n",
       "      <td>1360</td>\n",
       "      <td>5000</td>\n",
       "    </tr>\n",
       "    <tr>\n",
       "      <th>4</th>\n",
       "      <td>1954400510</td>\n",
       "      <td>20150218T000000</td>\n",
       "      <td>510000.0</td>\n",
       "      <td>3</td>\n",
       "      <td>2.00</td>\n",
       "      <td>1680</td>\n",
       "      <td>8080</td>\n",
       "      <td>1.0</td>\n",
       "      <td>0</td>\n",
       "      <td>0</td>\n",
       "      <td>...</td>\n",
       "      <td>8</td>\n",
       "      <td>1680</td>\n",
       "      <td>0</td>\n",
       "      <td>1987</td>\n",
       "      <td>0</td>\n",
       "      <td>98074</td>\n",
       "      <td>47.6168</td>\n",
       "      <td>-122.045</td>\n",
       "      <td>1800</td>\n",
       "      <td>7503</td>\n",
       "    </tr>\n",
       "  </tbody>\n",
       "</table>\n",
       "<p>5 rows × 21 columns</p>\n",
       "</div>"
      ],
      "text/plain": [
       "           id             date     price  bedrooms  bathrooms  sqft_living  \\\n",
       "0  7129300520  20141013T000000  221900.0         3       1.00         1180   \n",
       "1  6414100192  20141209T000000  538000.0         3       2.25         2570   \n",
       "2  5631500400  20150225T000000  180000.0         2       1.00          770   \n",
       "3  2487200875  20141209T000000  604000.0         4       3.00         1960   \n",
       "4  1954400510  20150218T000000  510000.0         3       2.00         1680   \n",
       "\n",
       "   sqft_lot  floors  waterfront  view  ...  grade  sqft_above  sqft_basement  \\\n",
       "0      5650     1.0           0     0  ...      7        1180              0   \n",
       "1      7242     2.0           0     0  ...      7        2170            400   \n",
       "2     10000     1.0           0     0  ...      6         770              0   \n",
       "3      5000     1.0           0     0  ...      7        1050            910   \n",
       "4      8080     1.0           0     0  ...      8        1680              0   \n",
       "\n",
       "   yr_built  yr_renovated  zipcode      lat     long  sqft_living15  \\\n",
       "0      1955             0    98178  47.5112 -122.257           1340   \n",
       "1      1951          1991    98125  47.7210 -122.319           1690   \n",
       "2      1933             0    98028  47.7379 -122.233           2720   \n",
       "3      1965             0    98136  47.5208 -122.393           1360   \n",
       "4      1987             0    98074  47.6168 -122.045           1800   \n",
       "\n",
       "   sqft_lot15  \n",
       "0        5650  \n",
       "1        7639  \n",
       "2        8062  \n",
       "3        5000  \n",
       "4        7503  \n",
       "\n",
       "[5 rows x 21 columns]"
      ]
     },
     "execution_count": 3,
     "metadata": {},
     "output_type": "execute_result"
    }
   ],
   "source": [
    "df.head()"
   ]
  },
  {
   "cell_type": "code",
   "execution_count": 4,
   "metadata": {},
   "outputs": [
    {
     "name": "stdout",
     "output_type": "stream",
     "text": [
      "<class 'pandas.core.frame.DataFrame'>\n",
      "RangeIndex: 21613 entries, 0 to 21612\n",
      "Data columns (total 21 columns):\n",
      "id               21613 non-null int64\n",
      "date             21613 non-null object\n",
      "price            21613 non-null float64\n",
      "bedrooms         21613 non-null int64\n",
      "bathrooms        21613 non-null float64\n",
      "sqft_living      21613 non-null int64\n",
      "sqft_lot         21613 non-null int64\n",
      "floors           21613 non-null float64\n",
      "waterfront       21613 non-null int64\n",
      "view             21613 non-null int64\n",
      "condition        21613 non-null int64\n",
      "grade            21613 non-null int64\n",
      "sqft_above       21613 non-null int64\n",
      "sqft_basement    21613 non-null int64\n",
      "yr_built         21613 non-null int64\n",
      "yr_renovated     21613 non-null int64\n",
      "zipcode          21613 non-null int64\n",
      "lat              21613 non-null float64\n",
      "long             21613 non-null float64\n",
      "sqft_living15    21613 non-null int64\n",
      "sqft_lot15       21613 non-null int64\n",
      "dtypes: float64(5), int64(15), object(1)\n",
      "memory usage: 3.5+ MB\n"
     ]
    }
   ],
   "source": [
    "df.info()"
   ]
  },
  {
   "cell_type": "markdown",
   "metadata": {},
   "source": [
    "# Preparing the Test set"
   ]
  },
  {
   "cell_type": "code",
   "execution_count": 5,
   "metadata": {},
   "outputs": [
    {
     "data": {
      "text/plain": [
       "price            1.000000\n",
       "sqft_living      0.702035\n",
       "grade            0.667434\n",
       "sqft_above       0.605567\n",
       "sqft_living15    0.585379\n",
       "bathrooms        0.525138\n",
       "view             0.397293\n",
       "sqft_basement    0.323816\n",
       "bedrooms         0.308350\n",
       "lat              0.307003\n",
       "waterfront       0.266369\n",
       "floors           0.256794\n",
       "yr_renovated     0.126434\n",
       "sqft_lot         0.089661\n",
       "sqft_lot15       0.082447\n",
       "yr_built         0.054012\n",
       "condition        0.036362\n",
       "long             0.021626\n",
       "id              -0.016762\n",
       "zipcode         -0.053203\n",
       "Name: price, dtype: float64"
      ]
     },
     "execution_count": 5,
     "metadata": {},
     "output_type": "execute_result"
    }
   ],
   "source": [
    "df.corr()['price'].sort_values(ascending=False)"
   ]
  },
  {
   "cell_type": "code",
   "execution_count": 6,
   "metadata": {},
   "outputs": [
    {
     "data": {
      "text/plain": [
       "<matplotlib.axes._subplots.AxesSubplot at 0x18b3e4e3dc8>"
      ]
     },
     "execution_count": 6,
     "metadata": {},
     "output_type": "execute_result"
    },
    {
     "data": {
      "image/png": "[encoded data removed]",
      "text/plain": [
       "<Figure size 432x288 with 1 Axes>"
      ]
     },
     "metadata": {
      "needs_background": "light"
     },
     "output_type": "display_data"
    }
   ],
   "source": [
    "df['sqft_living'].hist(bins=100)"
   ]
  },
  {
   "cell_type": "code",
   "execution_count": 7,
   "metadata": {},
   "outputs": [
    {
     "data": {
      "text/plain": [
       "<matplotlib.axes._subplots.AxesSubplot at 0x18b3e714a48>"
      ]
     },
     "execution_count": 7,
     "metadata": {},
     "output_type": "execute_result"
    },
    {
     "data": {
      "image/png": "[encoded data removed]",
      "text/plain": [
       "<Figure size 432x288 with 1 Axes>"
      ]
     },
     "metadata": {
      "needs_background": "light"
     },
     "output_type": "display_data"
    }
   ],
   "source": [
    "sns.kdeplot(df['sqft_living'])"
   ]
  },
  {
   "cell_type": "code",
   "execution_count": 8,
   "metadata": {},
   "outputs": [
    {
     "data": {
      "text/plain": [
       "<matplotlib.axes._subplots.AxesSubplot at 0x18b3e6bf2c8>"
      ]
     },
     "execution_count": 8,
     "metadata": {},
     "output_type": "execute_result"
    },
    {
     "data": {
      "image/png": "[encoded data removed]",
      "text/plain": [
       "<Figure size 432x288 with 1 Axes>"
      ]
     },
     "metadata": {
      "needs_background": "light"
     },
     "output_type": "display_data"
    }
   ],
   "source": [
    "#we do have a long tail and outliers\n",
    "#let's also confirm by looking at boxplot\n",
    "sns.boxplot(df['sqft_living'])"
   ]
  },
  {
   "cell_type": "code",
   "execution_count": 9,
   "metadata": {},
   "outputs": [],
   "source": [
    "#one way to tackel the problem is by eliminating the outliers and training the model, or we can also used stratified sampling\n",
    "#let's first check the most common range of highly correlated feature that is sqft_living"
   ]
  },
  {
   "cell_type": "code",
   "execution_count": 10,
   "metadata": {},
   "outputs": [
    {
     "data": {
      "text/html": [
       "<div>\n",
       "<style scoped>\n",
       "    .dataframe tbody tr th:only-of-type {\n",
       "        vertical-align: middle;\n",
       "    }\n",
       "\n",
       "    .dataframe tbody tr th {\n",
       "        vertical-align: top;\n",
       "    }\n",
       "\n",
       "    .dataframe thead th {\n",
       "        text-align: right;\n",
       "    }\n",
       "</style>\n",
       "<table border=\"1\" class=\"dataframe\">\n",
       "  <thead>\n",
       "    <tr style=\"text-align: right;\">\n",
       "      <th></th>\n",
       "      <th>count</th>\n",
       "      <th>mean</th>\n",
       "      <th>std</th>\n",
       "      <th>min</th>\n",
       "      <th>25%</th>\n",
       "      <th>50%</th>\n",
       "      <th>75%</th>\n",
       "      <th>max</th>\n",
       "    </tr>\n",
       "  </thead>\n",
       "  <tbody>\n",
       "    <tr>\n",
       "      <th>id</th>\n",
       "      <td>21613.0</td>\n",
       "      <td>4.580302e+09</td>\n",
       "      <td>2.876566e+09</td>\n",
       "      <td>1.000102e+06</td>\n",
       "      <td>2.123049e+09</td>\n",
       "      <td>3.904930e+09</td>\n",
       "      <td>7.308900e+09</td>\n",
       "      <td>9.900000e+09</td>\n",
       "    </tr>\n",
       "    <tr>\n",
       "      <th>price</th>\n",
       "      <td>21613.0</td>\n",
       "      <td>5.400881e+05</td>\n",
       "      <td>3.671272e+05</td>\n",
       "      <td>7.500000e+04</td>\n",
       "      <td>3.219500e+05</td>\n",
       "      <td>4.500000e+05</td>\n",
       "      <td>6.450000e+05</td>\n",
       "      <td>7.700000e+06</td>\n",
       "    </tr>\n",
       "    <tr>\n",
       "      <th>bedrooms</th>\n",
       "      <td>21613.0</td>\n",
       "      <td>3.370842e+00</td>\n",
       "      <td>9.300618e-01</td>\n",
       "      <td>0.000000e+00</td>\n",
       "      <td>3.000000e+00</td>\n",
       "      <td>3.000000e+00</td>\n",
       "      <td>4.000000e+00</td>\n",
       "      <td>3.300000e+01</td>\n",
       "    </tr>\n",
       "    <tr>\n",
       "      <th>bathrooms</th>\n",
       "      <td>21613.0</td>\n",
       "      <td>2.114757e+00</td>\n",
       "      <td>7.701632e-01</td>\n",
       "      <td>0.000000e+00</td>\n",
       "      <td>1.750000e+00</td>\n",
       "      <td>2.250000e+00</td>\n",
       "      <td>2.500000e+00</td>\n",
       "      <td>8.000000e+00</td>\n",
       "    </tr>\n",
       "    <tr>\n",
       "      <th>sqft_living</th>\n",
       "      <td>21613.0</td>\n",
       "      <td>2.079900e+03</td>\n",
       "      <td>9.184409e+02</td>\n",
       "      <td>2.900000e+02</td>\n",
       "      <td>1.427000e+03</td>\n",
       "      <td>1.910000e+03</td>\n",
       "      <td>2.550000e+03</td>\n",
       "      <td>1.354000e+04</td>\n",
       "    </tr>\n",
       "    <tr>\n",
       "      <th>sqft_lot</th>\n",
       "      <td>21613.0</td>\n",
       "      <td>1.510697e+04</td>\n",
       "      <td>4.142051e+04</td>\n",
       "      <td>5.200000e+02</td>\n",
       "      <td>5.040000e+03</td>\n",
       "      <td>7.618000e+03</td>\n",
       "      <td>1.068800e+04</td>\n",
       "      <td>1.651359e+06</td>\n",
       "    </tr>\n",
       "    <tr>\n",
       "      <th>floors</th>\n",
       "      <td>21613.0</td>\n",
       "      <td>1.494309e+00</td>\n",
       "      <td>5.399889e-01</td>\n",
       "      <td>1.000000e+00</td>\n",
       "      <td>1.000000e+00</td>\n",
       "      <td>1.500000e+00</td>\n",
       "      <td>2.000000e+00</td>\n",
       "      <td>3.500000e+00</td>\n",
       "    </tr>\n",
       "    <tr>\n",
       "      <th>waterfront</th>\n",
       "      <td>21613.0</td>\n",
       "      <td>7.541757e-03</td>\n",
       "      <td>8.651720e-02</td>\n",
       "      <td>0.000000e+00</td>\n",
       "      <td>0.000000e+00</td>\n",
       "      <td>0.000000e+00</td>\n",
       "      <td>0.000000e+00</td>\n",
       "      <td>1.000000e+00</td>\n",
       "    </tr>\n",
       "    <tr>\n",
       "      <th>view</th>\n",
       "      <td>21613.0</td>\n",
       "      <td>2.343034e-01</td>\n",
       "      <td>7.663176e-01</td>\n",
       "      <td>0.000000e+00</td>\n",
       "      <td>0.000000e+00</td>\n",
       "      <td>0.000000e+00</td>\n",
       "      <td>0.000000e+00</td>\n",
       "      <td>4.000000e+00</td>\n",
       "    </tr>\n",
       "    <tr>\n",
       "      <th>condition</th>\n",
       "      <td>21613.0</td>\n",
       "      <td>3.409430e+00</td>\n",
       "      <td>6.507430e-01</td>\n",
       "      <td>1.000000e+00</td>\n",
       "      <td>3.000000e+00</td>\n",
       "      <td>3.000000e+00</td>\n",
       "      <td>4.000000e+00</td>\n",
       "      <td>5.000000e+00</td>\n",
       "    </tr>\n",
       "    <tr>\n",
       "      <th>grade</th>\n",
       "      <td>21613.0</td>\n",
       "      <td>7.656873e+00</td>\n",
       "      <td>1.175459e+00</td>\n",
       "      <td>1.000000e+00</td>\n",
       "      <td>7.000000e+00</td>\n",
       "      <td>7.000000e+00</td>\n",
       "      <td>8.000000e+00</td>\n",
       "      <td>1.300000e+01</td>\n",
       "    </tr>\n",
       "    <tr>\n",
       "      <th>sqft_above</th>\n",
       "      <td>21613.0</td>\n",
       "      <td>1.788391e+03</td>\n",
       "      <td>8.280910e+02</td>\n",
       "      <td>2.900000e+02</td>\n",
       "      <td>1.190000e+03</td>\n",
       "      <td>1.560000e+03</td>\n",
       "      <td>2.210000e+03</td>\n",
       "      <td>9.410000e+03</td>\n",
       "    </tr>\n",
       "    <tr>\n",
       "      <th>sqft_basement</th>\n",
       "      <td>21613.0</td>\n",
       "      <td>2.915090e+02</td>\n",
       "      <td>4.425750e+02</td>\n",
       "      <td>0.000000e+00</td>\n",
       "      <td>0.000000e+00</td>\n",
       "      <td>0.000000e+00</td>\n",
       "      <td>5.600000e+02</td>\n",
       "      <td>4.820000e+03</td>\n",
       "    </tr>\n",
       "    <tr>\n",
       "      <th>yr_built</th>\n",
       "      <td>21613.0</td>\n",
       "      <td>1.971005e+03</td>\n",
       "      <td>2.937341e+01</td>\n",
       "      <td>1.900000e+03</td>\n",
       "      <td>1.951000e+03</td>\n",
       "      <td>1.975000e+03</td>\n",
       "      <td>1.997000e+03</td>\n",
       "      <td>2.015000e+03</td>\n",
       "    </tr>\n",
       "    <tr>\n",
       "      <th>yr_renovated</th>\n",
       "      <td>21613.0</td>\n",
       "      <td>8.440226e+01</td>\n",
       "      <td>4.016792e+02</td>\n",
       "      <td>0.000000e+00</td>\n",
       "      <td>0.000000e+00</td>\n",
       "      <td>0.000000e+00</td>\n",
       "      <td>0.000000e+00</td>\n",
       "      <td>2.015000e+03</td>\n",
       "    </tr>\n",
       "    <tr>\n",
       "      <th>zipcode</th>\n",
       "      <td>21613.0</td>\n",
       "      <td>9.807794e+04</td>\n",
       "      <td>5.350503e+01</td>\n",
       "      <td>9.800100e+04</td>\n",
       "      <td>9.803300e+04</td>\n",
       "      <td>9.806500e+04</td>\n",
       "      <td>9.811800e+04</td>\n",
       "      <td>9.819900e+04</td>\n",
       "    </tr>\n",
       "    <tr>\n",
       "      <th>lat</th>\n",
       "      <td>21613.0</td>\n",
       "      <td>4.756005e+01</td>\n",
       "      <td>1.385637e-01</td>\n",
       "      <td>4.715590e+01</td>\n",
       "      <td>4.747100e+01</td>\n",
       "      <td>4.757180e+01</td>\n",
       "      <td>4.767800e+01</td>\n",
       "      <td>4.777760e+01</td>\n",
       "    </tr>\n",
       "    <tr>\n",
       "      <th>long</th>\n",
       "      <td>21613.0</td>\n",
       "      <td>-1.222139e+02</td>\n",
       "      <td>1.408283e-01</td>\n",
       "      <td>-1.225190e+02</td>\n",
       "      <td>-1.223280e+02</td>\n",
       "      <td>-1.222300e+02</td>\n",
       "      <td>-1.221250e+02</td>\n",
       "      <td>-1.213150e+02</td>\n",
       "    </tr>\n",
       "    <tr>\n",
       "      <th>sqft_living15</th>\n",
       "      <td>21613.0</td>\n",
       "      <td>1.986552e+03</td>\n",
       "      <td>6.853913e+02</td>\n",
       "      <td>3.990000e+02</td>\n",
       "      <td>1.490000e+03</td>\n",
       "      <td>1.840000e+03</td>\n",
       "      <td>2.360000e+03</td>\n",
       "      <td>6.210000e+03</td>\n",
       "    </tr>\n",
       "    <tr>\n",
       "      <th>sqft_lot15</th>\n",
       "      <td>21613.0</td>\n",
       "      <td>1.276846e+04</td>\n",
       "      <td>2.730418e+04</td>\n",
       "      <td>6.510000e+02</td>\n",
       "      <td>5.100000e+03</td>\n",
       "      <td>7.620000e+03</td>\n",
       "      <td>1.008300e+04</td>\n",
       "      <td>8.712000e+05</td>\n",
       "    </tr>\n",
       "  </tbody>\n",
       "</table>\n",
       "</div>"
      ],
      "text/plain": [
       "                 count          mean           std           min  \\\n",
       "id             21613.0  4.580302e+09  2.876566e+09  1.000102e+06   \n",
       "price          21613.0  5.400881e+05  3.671272e+05  7.500000e+04   \n",
       "bedrooms       21613.0  3.370842e+00  9.300618e-01  0.000000e+00   \n",
       "bathrooms      21613.0  2.114757e+00  7.701632e-01  0.000000e+00   \n",
       "sqft_living    21613.0  2.079900e+03  9.184409e+02  2.900000e+02   \n",
       "sqft_lot       21613.0  1.510697e+04  4.142051e+04  5.200000e+02   \n",
       "floors         21613.0  1.494309e+00  5.399889e-01  1.000000e+00   \n",
       "waterfront     21613.0  7.541757e-03  8.651720e-02  0.000000e+00   \n",
       "view           21613.0  2.343034e-01  7.663176e-01  0.000000e+00   \n",
       "condition      21613.0  3.409430e+00  6.507430e-01  1.000000e+00   \n",
       "grade          21613.0  7.656873e+00  1.175459e+00  1.000000e+00   \n",
       "sqft_above     21613.0  1.788391e+03  8.280910e+02  2.900000e+02   \n",
       "sqft_basement  21613.0  2.915090e+02  4.425750e+02  0.000000e+00   \n",
       "yr_built       21613.0  1.971005e+03  2.937341e+01  1.900000e+03   \n",
       "yr_renovated   21613.0  8.440226e+01  4.016792e+02  0.000000e+00   \n",
       "zipcode        21613.0  9.807794e+04  5.350503e+01  9.800100e+04   \n",
       "lat            21613.0  4.756005e+01  1.385637e-01  4.715590e+01   \n",
       "long           21613.0 -1.222139e+02  1.408283e-01 -1.225190e+02   \n",
       "sqft_living15  21613.0  1.986552e+03  6.853913e+02  3.990000e+02   \n",
       "sqft_lot15     21613.0  1.276846e+04  2.730418e+04  6.510000e+02   \n",
       "\n",
       "                        25%           50%           75%           max  \n",
       "id             2.123049e+09  3.904930e+09  7.308900e+09  9.900000e+09  \n",
       "price          3.219500e+05  4.500000e+05  6.450000e+05  7.700000e+06  \n",
       "bedrooms       3.000000e+00  3.000000e+00  4.000000e+00  3.300000e+01  \n",
       "bathrooms      1.750000e+00  2.250000e+00  2.500000e+00  8.000000e+00  \n",
       "sqft_living    1.427000e+03  1.910000e+03  2.550000e+03  1.354000e+04  \n",
       "sqft_lot       5.040000e+03  7.618000e+03  1.068800e+04  1.651359e+06  \n",
       "floors         1.000000e+00  1.500000e+00  2.000000e+00  3.500000e+00  \n",
       "waterfront     0.000000e+00  0.000000e+00  0.000000e+00  1.000000e+00  \n",
       "view           0.000000e+00  0.000000e+00  0.000000e+00  4.000000e+00  \n",
       "condition      3.000000e+00  3.000000e+00  4.000000e+00  5.000000e+00  \n",
       "grade          7.000000e+00  7.000000e+00  8.000000e+00  1.300000e+01  \n",
       "sqft_above     1.190000e+03  1.560000e+03  2.210000e+03  9.410000e+03  \n",
       "sqft_basement  0.000000e+00  0.000000e+00  5.600000e+02  4.820000e+03  \n",
       "yr_built       1.951000e+03  1.975000e+03  1.997000e+03  2.015000e+03  \n",
       "yr_renovated   0.000000e+00  0.000000e+00  0.000000e+00  2.015000e+03  \n",
       "zipcode        9.803300e+04  9.806500e+04  9.811800e+04  9.819900e+04  \n",
       "lat            4.747100e+01  4.757180e+01  4.767800e+01  4.777760e+01  \n",
       "long          -1.223280e+02 -1.222300e+02 -1.221250e+02 -1.213150e+02  \n",
       "sqft_living15  1.490000e+03  1.840000e+03  2.360000e+03  6.210000e+03  \n",
       "sqft_lot15     5.100000e+03  7.620000e+03  1.008300e+04  8.712000e+05  "
      ]
     },
     "execution_count": 10,
     "metadata": {},
     "output_type": "execute_result"
    }
   ],
   "source": [
    "df.describe().transpose()"
   ]
  },
  {
   "cell_type": "code",
   "execution_count": 11,
   "metadata": {},
   "outputs": [],
   "source": [
    "#it can be seen that most of the data is divided into 1.5-2.5"
   ]
  },
  {
   "cell_type": "code",
   "execution_count": 12,
   "metadata": {},
   "outputs": [],
   "source": [
    "#let's do a stratified random split\n",
    "df['sqft_living_cat']=pd.cut(df['sqft_living'],bins=[0.,1.5e3,2.5e3,3.5e3,4.5e3,5.5e3,np.inf],labels=[1,2,3,4,5,6])"
   ]
  },
  {
   "cell_type": "code",
   "execution_count": 13,
   "metadata": {},
   "outputs": [],
   "source": [
    "from sklearn.model_selection import StratifiedShuffleSplit "
   ]
  },
  {
   "cell_type": "code",
   "execution_count": 14,
   "metadata": {},
   "outputs": [],
   "source": [
    "split = StratifiedShuffleSplit(n_splits=1, test_size=0.2, random_state=101)"
   ]
  },
  {
   "cell_type": "code",
   "execution_count": 15,
   "metadata": {},
   "outputs": [],
   "source": [
    "for train_index, test_index in split.split(df,df['sqft_living_cat']):\n",
    "    strat_train_set=df.loc[train_index]\n",
    "    strat_test_set=df.loc[test_index]"
   ]
  },
  {
   "cell_type": "code",
   "execution_count": 16,
   "metadata": {},
   "outputs": [
    {
     "data": {
      "text/plain": [
       "2    0.443529\n",
       "1    0.292879\n",
       "3    0.192616\n",
       "4    0.053949\n",
       "5    0.011475\n",
       "6    0.005552\n",
       "Name: sqft_living_cat, dtype: float64"
      ]
     },
     "execution_count": 16,
     "metadata": {},
     "output_type": "execute_result"
    }
   ],
   "source": [
    "#let's check the proportion it has gathered\n",
    "df['sqft_living_cat'].value_counts()/len(df)"
   ]
  },
  {
   "cell_type": "code",
   "execution_count": 17,
   "metadata": {},
   "outputs": [
    {
     "data": {
      "text/plain": [
       "2    0.354833\n",
       "1    0.234303\n",
       "3    0.154074\n",
       "4    0.043168\n",
       "5    0.009161\n",
       "6    0.004442\n",
       "Name: sqft_living_cat, dtype: float64"
      ]
     },
     "execution_count": 17,
     "metadata": {},
     "output_type": "execute_result"
    }
   ],
   "source": [
    "strat_train_set['sqft_living_cat'].value_counts()/len(df)"
   ]
  },
  {
   "cell_type": "code",
   "execution_count": 18,
   "metadata": {},
   "outputs": [],
   "source": [
    "for set_ in strat_test_set,strat_train_set:\n",
    "    set_.drop('sqft_living_cat',axis=1,inplace=True)"
   ]
  },
  {
   "cell_type": "markdown",
   "metadata": {},
   "source": [
    "# Exploring the data"
   ]
  },
  {
   "cell_type": "code",
   "execution_count": 19,
   "metadata": {},
   "outputs": [],
   "source": [
    "#let's explore the data\n",
    "housing=strat_train_set.copy()\n",
    "housing_tr=strat_train_set.drop('price',axis=1)\n",
    "housing_label=strat_train_set['price'].copy()"
   ]
  },
  {
   "cell_type": "code",
   "execution_count": 20,
   "metadata": {},
   "outputs": [],
   "source": [
    "#temp\n",
    "X_test=strat_test_set.drop('price',axis=1)\n",
    "y_test=strat_test_set['price'].copy()"
   ]
  },
  {
   "cell_type": "code",
   "execution_count": 21,
   "metadata": {},
   "outputs": [
    {
     "data": {
      "text/html": [
       "<div>\n",
       "<style scoped>\n",
       "    .dataframe tbody tr th:only-of-type {\n",
       "        vertical-align: middle;\n",
       "    }\n",
       "\n",
       "    .dataframe tbody tr th {\n",
       "        vertical-align: top;\n",
       "    }\n",
       "\n",
       "    .dataframe thead th {\n",
       "        text-align: right;\n",
       "    }\n",
       "</style>\n",
       "<table border=\"1\" class=\"dataframe\">\n",
       "  <thead>\n",
       "    <tr style=\"text-align: right;\">\n",
       "      <th></th>\n",
       "      <th>id</th>\n",
       "      <th>date</th>\n",
       "      <th>price</th>\n",
       "      <th>bedrooms</th>\n",
       "      <th>bathrooms</th>\n",
       "      <th>sqft_living</th>\n",
       "      <th>sqft_lot</th>\n",
       "      <th>floors</th>\n",
       "      <th>waterfront</th>\n",
       "      <th>view</th>\n",
       "      <th>...</th>\n",
       "      <th>grade</th>\n",
       "      <th>sqft_above</th>\n",
       "      <th>sqft_basement</th>\n",
       "      <th>yr_built</th>\n",
       "      <th>yr_renovated</th>\n",
       "      <th>zipcode</th>\n",
       "      <th>lat</th>\n",
       "      <th>long</th>\n",
       "      <th>sqft_living15</th>\n",
       "      <th>sqft_lot15</th>\n",
       "    </tr>\n",
       "  </thead>\n",
       "  <tbody>\n",
       "    <tr>\n",
       "      <th>2800</th>\n",
       "      <td>8091411040</td>\n",
       "      <td>20140701T000000</td>\n",
       "      <td>274900.0</td>\n",
       "      <td>4</td>\n",
       "      <td>2.50</td>\n",
       "      <td>1970</td>\n",
       "      <td>6600</td>\n",
       "      <td>2.0</td>\n",
       "      <td>0</td>\n",
       "      <td>0</td>\n",
       "      <td>...</td>\n",
       "      <td>7</td>\n",
       "      <td>1970</td>\n",
       "      <td>0</td>\n",
       "      <td>1987</td>\n",
       "      <td>0</td>\n",
       "      <td>98030</td>\n",
       "      <td>47.3491</td>\n",
       "      <td>-122.168</td>\n",
       "      <td>1970</td>\n",
       "      <td>7682</td>\n",
       "    </tr>\n",
       "    <tr>\n",
       "      <th>13702</th>\n",
       "      <td>5702380730</td>\n",
       "      <td>20140823T000000</td>\n",
       "      <td>230000.0</td>\n",
       "      <td>2</td>\n",
       "      <td>2.00</td>\n",
       "      <td>1340</td>\n",
       "      <td>7605</td>\n",
       "      <td>1.0</td>\n",
       "      <td>0</td>\n",
       "      <td>0</td>\n",
       "      <td>...</td>\n",
       "      <td>7</td>\n",
       "      <td>1340</td>\n",
       "      <td>0</td>\n",
       "      <td>1992</td>\n",
       "      <td>0</td>\n",
       "      <td>98022</td>\n",
       "      <td>47.1936</td>\n",
       "      <td>-121.981</td>\n",
       "      <td>1670</td>\n",
       "      <td>7136</td>\n",
       "    </tr>\n",
       "    <tr>\n",
       "      <th>13192</th>\n",
       "      <td>7697800040</td>\n",
       "      <td>20140826T000000</td>\n",
       "      <td>470000.0</td>\n",
       "      <td>4</td>\n",
       "      <td>2.75</td>\n",
       "      <td>2150</td>\n",
       "      <td>9820</td>\n",
       "      <td>1.0</td>\n",
       "      <td>0</td>\n",
       "      <td>0</td>\n",
       "      <td>...</td>\n",
       "      <td>8</td>\n",
       "      <td>1220</td>\n",
       "      <td>930</td>\n",
       "      <td>1979</td>\n",
       "      <td>0</td>\n",
       "      <td>98011</td>\n",
       "      <td>47.7758</td>\n",
       "      <td>-122.200</td>\n",
       "      <td>2060</td>\n",
       "      <td>9830</td>\n",
       "    </tr>\n",
       "    <tr>\n",
       "      <th>14133</th>\n",
       "      <td>4074300150</td>\n",
       "      <td>20150417T000000</td>\n",
       "      <td>460000.0</td>\n",
       "      <td>4</td>\n",
       "      <td>1.75</td>\n",
       "      <td>1560</td>\n",
       "      <td>7200</td>\n",
       "      <td>1.0</td>\n",
       "      <td>0</td>\n",
       "      <td>0</td>\n",
       "      <td>...</td>\n",
       "      <td>6</td>\n",
       "      <td>860</td>\n",
       "      <td>700</td>\n",
       "      <td>1943</td>\n",
       "      <td>0</td>\n",
       "      <td>98115</td>\n",
       "      <td>47.7001</td>\n",
       "      <td>-122.279</td>\n",
       "      <td>1420</td>\n",
       "      <td>7200</td>\n",
       "    </tr>\n",
       "    <tr>\n",
       "      <th>1187</th>\n",
       "      <td>6398000171</td>\n",
       "      <td>20140710T000000</td>\n",
       "      <td>545000.0</td>\n",
       "      <td>2</td>\n",
       "      <td>2.00</td>\n",
       "      <td>2930</td>\n",
       "      <td>14057</td>\n",
       "      <td>1.0</td>\n",
       "      <td>0</td>\n",
       "      <td>2</td>\n",
       "      <td>...</td>\n",
       "      <td>8</td>\n",
       "      <td>1680</td>\n",
       "      <td>1250</td>\n",
       "      <td>1980</td>\n",
       "      <td>0</td>\n",
       "      <td>98070</td>\n",
       "      <td>47.4025</td>\n",
       "      <td>-122.463</td>\n",
       "      <td>2234</td>\n",
       "      <td>61011</td>\n",
       "    </tr>\n",
       "  </tbody>\n",
       "</table>\n",
       "<p>5 rows × 21 columns</p>\n",
       "</div>"
      ],
      "text/plain": [
       "               id             date     price  bedrooms  bathrooms  \\\n",
       "2800   8091411040  20140701T000000  274900.0         4       2.50   \n",
       "13702  5702380730  20140823T000000  230000.0         2       2.00   \n",
       "13192  7697800040  20140826T000000  470000.0         4       2.75   \n",
       "14133  4074300150  20150417T000000  460000.0         4       1.75   \n",
       "1187   6398000171  20140710T000000  545000.0         2       2.00   \n",
       "\n",
       "       sqft_living  sqft_lot  floors  waterfront  view  ...  grade  \\\n",
       "2800          1970      6600     2.0           0     0  ...      7   \n",
       "13702         1340      7605     1.0           0     0  ...      7   \n",
       "13192         2150      9820     1.0           0     0  ...      8   \n",
       "14133         1560      7200     1.0           0     0  ...      6   \n",
       "1187          2930     14057     1.0           0     2  ...      8   \n",
       "\n",
       "       sqft_above  sqft_basement  yr_built  yr_renovated  zipcode      lat  \\\n",
       "2800         1970              0      1987             0    98030  47.3491   \n",
       "13702        1340              0      1992             0    98022  47.1936   \n",
       "13192        1220            930      1979             0    98011  47.7758   \n",
       "14133         860            700      1943             0    98115  47.7001   \n",
       "1187         1680           1250      1980             0    98070  47.4025   \n",
       "\n",
       "          long  sqft_living15  sqft_lot15  \n",
       "2800  -122.168           1970        7682  \n",
       "13702 -121.981           1670        7136  \n",
       "13192 -122.200           2060        9830  \n",
       "14133 -122.279           1420        7200  \n",
       "1187  -122.463           2234       61011  \n",
       "\n",
       "[5 rows x 21 columns]"
      ]
     },
     "execution_count": 21,
     "metadata": {},
     "output_type": "execute_result"
    }
   ],
   "source": [
    "housing.head()"
   ]
  },
  {
   "cell_type": "code",
   "execution_count": 22,
   "metadata": {},
   "outputs": [
    {
     "data": {
      "image/png": "[encoded data removed]",
      "text/plain": [
       "<Figure size 864x432 with 2 Axes>"
      ]
     },
     "metadata": {
      "needs_background": "light"
     },
     "output_type": "display_data"
    }
   ],
   "source": [
    "# let's try plotting long vs lat to check how prices are distributed over region\n",
    "ax=housing.plot(kind=\"scatter\",x='long',y='lat',figsize=(12,6),c=\"price\",cmap=plt.get_cmap(\"plasma\"))"
   ]
  },
  {
   "cell_type": "code",
   "execution_count": 23,
   "metadata": {},
   "outputs": [
    {
     "data": {
      "text/plain": [
       "<matplotlib.image.AxesImage at 0x18b41036a48>"
      ]
     },
     "execution_count": 23,
     "metadata": {},
     "output_type": "execute_result"
    },
    {
     "data": {
      "image/png": "[encoded data removed]",
      "text/plain": [
       "<Figure size 864x360 with 1 Axes>"
      ]
     },
     "metadata": {
      "needs_background": "light"
     },
     "output_type": "display_data"
    }
   ],
   "source": [
    "#let's check the original map image\n",
    "import matplotlib.image as mpig\n",
    "kc_image=mpig.imread(\"king07.png\")\n",
    "plt.figure(figsize=(12,5))\n",
    "plt.imshow(kc_image,)"
   ]
  },
  {
   "cell_type": "code",
   "execution_count": 24,
   "metadata": {},
   "outputs": [],
   "source": [
    "#as we guessed correct, the houses near the water tends to be expensive "
   ]
  },
  {
   "cell_type": "code",
   "execution_count": 25,
   "metadata": {},
   "outputs": [
    {
     "data": {
      "text/plain": [
       "<matplotlib.axes._subplots.AxesSubplot at 0x18b41046248>"
      ]
     },
     "execution_count": 25,
     "metadata": {},
     "output_type": "execute_result"
    },
    {
     "data": {
      "image/png": "[encoded data removed]",
      "text/plain": [
       "<Figure size 432x288 with 1 Axes>"
      ]
     },
     "metadata": {
      "needs_background": "light"
     },
     "output_type": "display_data"
    }
   ],
   "source": [
    "#let's explore the bedroom and bathrooms feature\n",
    "sns.boxplot(x='bedrooms',data=housing,orient='v')"
   ]
  },
  {
   "cell_type": "code",
   "execution_count": 26,
   "metadata": {},
   "outputs": [
    {
     "data": {
      "text/plain": [
       "<matplotlib.axes._subplots.AxesSubplot at 0x18b40ed0a88>"
      ]
     },
     "execution_count": 26,
     "metadata": {},
     "output_type": "execute_result"
    },
    {
     "data": {
      "image/png": "[encoded data removed]",
      "text/plain": [
       "<Figure size 432x288 with 1 Axes>"
      ]
     },
     "metadata": {
      "needs_background": "light"
     },
     "output_type": "display_data"
    }
   ],
   "source": [
    "sns.boxplot(x='bathrooms',data=housing,orient='v')"
   ]
  },
  {
   "cell_type": "code",
   "execution_count": 27,
   "metadata": {},
   "outputs": [],
   "source": [
    "#there indeed are many outliers in the data\n",
    "#for now we are keeping them but if needed, we can eliminate them in future"
   ]
  },
  {
   "cell_type": "markdown",
   "metadata": {},
   "source": [
    "# Categorical Features"
   ]
  },
  {
   "cell_type": "code",
   "execution_count": 28,
   "metadata": {},
   "outputs": [],
   "source": [
    "#let's explore the columns of waterfront, view, yr_renovated"
   ]
  },
  {
   "cell_type": "code",
   "execution_count": 29,
   "metadata": {},
   "outputs": [
    {
     "data": {
      "text/plain": [
       "0    17157\n",
       "1      133\n",
       "Name: waterfront, dtype: int64"
      ]
     },
     "execution_count": 29,
     "metadata": {},
     "output_type": "execute_result"
    }
   ],
   "source": [
    "#first check waterfront\n",
    "housing['waterfront'].value_counts()\n",
    "#there's only 2 values so we can simply convert into an answer of yes or no"
   ]
  },
  {
   "cell_type": "code",
   "execution_count": 30,
   "metadata": {},
   "outputs": [
    {
     "data": {
      "text/plain": [
       "0    15598\n",
       "2      780\n",
       "3      399\n",
       "1      261\n",
       "4      252\n",
       "Name: view, dtype: int64"
      ]
     },
     "execution_count": 30,
     "metadata": {},
     "output_type": "execute_result"
    }
   ],
   "source": [
    "#let's check view\n",
    "housing['view'].value_counts()"
   ]
  },
  {
   "cell_type": "code",
   "execution_count": 31,
   "metadata": {},
   "outputs": [
    {
     "data": {
      "text/plain": [
       "<matplotlib.axes._subplots.AxesSubplot at 0x18b40f36d08>"
      ]
     },
     "execution_count": 31,
     "metadata": {},
     "output_type": "execute_result"
    },
    {
     "data": {
      "image/png": "[encoded data removed]",
      "text/plain": [
       "<Figure size 432x288 with 1 Axes>"
      ]
     },
     "metadata": {
      "needs_background": "light"
     },
     "output_type": "display_data"
    }
   ],
   "source": [
    "housing['view'].plot(kind=\"hist\")\n",
    "#views are very thinnely distributed\n",
    "#let's try to treat also as yes or no"
   ]
  },
  {
   "cell_type": "code",
   "execution_count": 32,
   "metadata": {},
   "outputs": [],
   "source": [
    "#let's explore yr_renovated\n",
    "def renov_check(x):\n",
    "    if x==0:\n",
    "        return 0\n",
    "    else:\n",
    "        return 1\n",
    "    \n",
    "renovation_check=housing.yr_renovated.apply(renov_check)"
   ]
  },
  {
   "cell_type": "code",
   "execution_count": 33,
   "metadata": {},
   "outputs": [
    {
     "data": {
      "image/png": "[encoded data removed]",
      "text/plain": [
       "<Figure size 432x288 with 1 Axes>"
      ]
     },
     "metadata": {
      "needs_background": "light"
     },
     "output_type": "display_data"
    }
   ],
   "source": [
    "plt.hist(renovation_check);\n",
    "#as we guessed correct there are too fews houses that are renovated"
   ]
  },
  {
   "cell_type": "code",
   "execution_count": 34,
   "metadata": {},
   "outputs": [],
   "source": [
    "#let's create a custom tranfrormer that handles these columns\n",
    "from sklearn.base import BaseEstimator,TransformerMixin\n",
    "class yes_no (BaseEstimator,TransformerMixin):\n",
    "    def __init__ (self):\n",
    "        pass\n",
    "    def fit(self,X,y=None):\n",
    "        return self\n",
    "    def binary_creator(self,x):\n",
    "        if x == 0:\n",
    "            return \"No\"\n",
    "        else:\n",
    "            return \"Yes\"\n",
    "    def transform(self,X,y=None):\n",
    "        X.loc[:,\"waterfront\"]=X['waterfront'].apply(self.binary_creator)\n",
    "        X.loc[:,'view']=X['view'].apply(self.binary_creator)\n",
    "        X.loc[:,'yr_renovated']=X['yr_renovated'].apply(self.binary_creator)\n",
    "        return X.values"
   ]
  },
  {
   "cell_type": "code",
   "execution_count": 35,
   "metadata": {},
   "outputs": [
    {
     "data": {
      "text/html": [
       "<div>\n",
       "<style scoped>\n",
       "    .dataframe tbody tr th:only-of-type {\n",
       "        vertical-align: middle;\n",
       "    }\n",
       "\n",
       "    .dataframe tbody tr th {\n",
       "        vertical-align: top;\n",
       "    }\n",
       "\n",
       "    .dataframe thead th {\n",
       "        text-align: right;\n",
       "    }\n",
       "</style>\n",
       "<table border=\"1\" class=\"dataframe\">\n",
       "  <thead>\n",
       "    <tr style=\"text-align: right;\">\n",
       "      <th></th>\n",
       "      <th>0</th>\n",
       "      <th>1</th>\n",
       "      <th>2</th>\n",
       "      <th>3</th>\n",
       "      <th>4</th>\n",
       "      <th>5</th>\n",
       "      <th>6</th>\n",
       "      <th>7</th>\n",
       "      <th>8</th>\n",
       "      <th>9</th>\n",
       "      <th>...</th>\n",
       "      <th>11</th>\n",
       "      <th>12</th>\n",
       "      <th>13</th>\n",
       "      <th>14</th>\n",
       "      <th>15</th>\n",
       "      <th>16</th>\n",
       "      <th>17</th>\n",
       "      <th>18</th>\n",
       "      <th>19</th>\n",
       "      <th>20</th>\n",
       "    </tr>\n",
       "  </thead>\n",
       "  <tbody>\n",
       "    <tr>\n",
       "      <th>0</th>\n",
       "      <td>8091411040</td>\n",
       "      <td>20140701T000000</td>\n",
       "      <td>274900</td>\n",
       "      <td>4</td>\n",
       "      <td>2.5</td>\n",
       "      <td>1970</td>\n",
       "      <td>6600</td>\n",
       "      <td>2</td>\n",
       "      <td>No</td>\n",
       "      <td>No</td>\n",
       "      <td>...</td>\n",
       "      <td>7</td>\n",
       "      <td>1970</td>\n",
       "      <td>0</td>\n",
       "      <td>1987</td>\n",
       "      <td>No</td>\n",
       "      <td>98030</td>\n",
       "      <td>47.3491</td>\n",
       "      <td>-122.168</td>\n",
       "      <td>1970</td>\n",
       "      <td>7682</td>\n",
       "    </tr>\n",
       "    <tr>\n",
       "      <th>1</th>\n",
       "      <td>5702380730</td>\n",
       "      <td>20140823T000000</td>\n",
       "      <td>230000</td>\n",
       "      <td>2</td>\n",
       "      <td>2</td>\n",
       "      <td>1340</td>\n",
       "      <td>7605</td>\n",
       "      <td>1</td>\n",
       "      <td>No</td>\n",
       "      <td>No</td>\n",
       "      <td>...</td>\n",
       "      <td>7</td>\n",
       "      <td>1340</td>\n",
       "      <td>0</td>\n",
       "      <td>1992</td>\n",
       "      <td>No</td>\n",
       "      <td>98022</td>\n",
       "      <td>47.1936</td>\n",
       "      <td>-121.981</td>\n",
       "      <td>1670</td>\n",
       "      <td>7136</td>\n",
       "    </tr>\n",
       "    <tr>\n",
       "      <th>2</th>\n",
       "      <td>7697800040</td>\n",
       "      <td>20140826T000000</td>\n",
       "      <td>470000</td>\n",
       "      <td>4</td>\n",
       "      <td>2.75</td>\n",
       "      <td>2150</td>\n",
       "      <td>9820</td>\n",
       "      <td>1</td>\n",
       "      <td>No</td>\n",
       "      <td>No</td>\n",
       "      <td>...</td>\n",
       "      <td>8</td>\n",
       "      <td>1220</td>\n",
       "      <td>930</td>\n",
       "      <td>1979</td>\n",
       "      <td>No</td>\n",
       "      <td>98011</td>\n",
       "      <td>47.7758</td>\n",
       "      <td>-122.2</td>\n",
       "      <td>2060</td>\n",
       "      <td>9830</td>\n",
       "    </tr>\n",
       "    <tr>\n",
       "      <th>3</th>\n",
       "      <td>4074300150</td>\n",
       "      <td>20150417T000000</td>\n",
       "      <td>460000</td>\n",
       "      <td>4</td>\n",
       "      <td>1.75</td>\n",
       "      <td>1560</td>\n",
       "      <td>7200</td>\n",
       "      <td>1</td>\n",
       "      <td>No</td>\n",
       "      <td>No</td>\n",
       "      <td>...</td>\n",
       "      <td>6</td>\n",
       "      <td>860</td>\n",
       "      <td>700</td>\n",
       "      <td>1943</td>\n",
       "      <td>No</td>\n",
       "      <td>98115</td>\n",
       "      <td>47.7001</td>\n",
       "      <td>-122.279</td>\n",
       "      <td>1420</td>\n",
       "      <td>7200</td>\n",
       "    </tr>\n",
       "    <tr>\n",
       "      <th>4</th>\n",
       "      <td>6398000171</td>\n",
       "      <td>20140710T000000</td>\n",
       "      <td>545000</td>\n",
       "      <td>2</td>\n",
       "      <td>2</td>\n",
       "      <td>2930</td>\n",
       "      <td>14057</td>\n",
       "      <td>1</td>\n",
       "      <td>No</td>\n",
       "      <td>Yes</td>\n",
       "      <td>...</td>\n",
       "      <td>8</td>\n",
       "      <td>1680</td>\n",
       "      <td>1250</td>\n",
       "      <td>1980</td>\n",
       "      <td>No</td>\n",
       "      <td>98070</td>\n",
       "      <td>47.4025</td>\n",
       "      <td>-122.463</td>\n",
       "      <td>2234</td>\n",
       "      <td>61011</td>\n",
       "    </tr>\n",
       "    <tr>\n",
       "      <th>...</th>\n",
       "      <td>...</td>\n",
       "      <td>...</td>\n",
       "      <td>...</td>\n",
       "      <td>...</td>\n",
       "      <td>...</td>\n",
       "      <td>...</td>\n",
       "      <td>...</td>\n",
       "      <td>...</td>\n",
       "      <td>...</td>\n",
       "      <td>...</td>\n",
       "      <td>...</td>\n",
       "      <td>...</td>\n",
       "      <td>...</td>\n",
       "      <td>...</td>\n",
       "      <td>...</td>\n",
       "      <td>...</td>\n",
       "      <td>...</td>\n",
       "      <td>...</td>\n",
       "      <td>...</td>\n",
       "      <td>...</td>\n",
       "      <td>...</td>\n",
       "    </tr>\n",
       "    <tr>\n",
       "      <th>17285</th>\n",
       "      <td>1862400226</td>\n",
       "      <td>20150311T000000</td>\n",
       "      <td>505000</td>\n",
       "      <td>2</td>\n",
       "      <td>1</td>\n",
       "      <td>1070</td>\n",
       "      <td>8130</td>\n",
       "      <td>1</td>\n",
       "      <td>No</td>\n",
       "      <td>No</td>\n",
       "      <td>...</td>\n",
       "      <td>7</td>\n",
       "      <td>1070</td>\n",
       "      <td>0</td>\n",
       "      <td>1942</td>\n",
       "      <td>No</td>\n",
       "      <td>98117</td>\n",
       "      <td>47.697</td>\n",
       "      <td>-122.37</td>\n",
       "      <td>1360</td>\n",
       "      <td>7653</td>\n",
       "    </tr>\n",
       "    <tr>\n",
       "      <th>17286</th>\n",
       "      <td>2851200100</td>\n",
       "      <td>20140701T000000</td>\n",
       "      <td>955500</td>\n",
       "      <td>4</td>\n",
       "      <td>1.75</td>\n",
       "      <td>2130</td>\n",
       "      <td>5080</td>\n",
       "      <td>1.5</td>\n",
       "      <td>No</td>\n",
       "      <td>No</td>\n",
       "      <td>...</td>\n",
       "      <td>8</td>\n",
       "      <td>2130</td>\n",
       "      <td>0</td>\n",
       "      <td>1914</td>\n",
       "      <td>Yes</td>\n",
       "      <td>98119</td>\n",
       "      <td>47.6427</td>\n",
       "      <td>-122.363</td>\n",
       "      <td>1900</td>\n",
       "      <td>5080</td>\n",
       "    </tr>\n",
       "    <tr>\n",
       "      <th>17287</th>\n",
       "      <td>620079042</td>\n",
       "      <td>20150323T000000</td>\n",
       "      <td>370000</td>\n",
       "      <td>2</td>\n",
       "      <td>1</td>\n",
       "      <td>2360</td>\n",
       "      <td>105850</td>\n",
       "      <td>1</td>\n",
       "      <td>No</td>\n",
       "      <td>Yes</td>\n",
       "      <td>...</td>\n",
       "      <td>6</td>\n",
       "      <td>1180</td>\n",
       "      <td>1180</td>\n",
       "      <td>1947</td>\n",
       "      <td>No</td>\n",
       "      <td>98022</td>\n",
       "      <td>47.2495</td>\n",
       "      <td>-121.97</td>\n",
       "      <td>2640</td>\n",
       "      <td>386812</td>\n",
       "    </tr>\n",
       "    <tr>\n",
       "      <th>17288</th>\n",
       "      <td>207700180</td>\n",
       "      <td>20150121T000000</td>\n",
       "      <td>555000</td>\n",
       "      <td>5</td>\n",
       "      <td>2.5</td>\n",
       "      <td>2450</td>\n",
       "      <td>5047</td>\n",
       "      <td>2</td>\n",
       "      <td>No</td>\n",
       "      <td>No</td>\n",
       "      <td>...</td>\n",
       "      <td>8</td>\n",
       "      <td>2450</td>\n",
       "      <td>0</td>\n",
       "      <td>2007</td>\n",
       "      <td>No</td>\n",
       "      <td>98011</td>\n",
       "      <td>47.7724</td>\n",
       "      <td>-122.168</td>\n",
       "      <td>2450</td>\n",
       "      <td>4478</td>\n",
       "    </tr>\n",
       "    <tr>\n",
       "      <th>17289</th>\n",
       "      <td>8011100095</td>\n",
       "      <td>20140610T000000</td>\n",
       "      <td>415000</td>\n",
       "      <td>3</td>\n",
       "      <td>2.5</td>\n",
       "      <td>2090</td>\n",
       "      <td>6045</td>\n",
       "      <td>2</td>\n",
       "      <td>No</td>\n",
       "      <td>No</td>\n",
       "      <td>...</td>\n",
       "      <td>8</td>\n",
       "      <td>2090</td>\n",
       "      <td>0</td>\n",
       "      <td>2000</td>\n",
       "      <td>No</td>\n",
       "      <td>98056</td>\n",
       "      <td>47.4947</td>\n",
       "      <td>-122.174</td>\n",
       "      <td>2040</td>\n",
       "      <td>6392</td>\n",
       "    </tr>\n",
       "  </tbody>\n",
       "</table>\n",
       "<p>17290 rows × 21 columns</p>\n",
       "</div>"
      ],
      "text/plain": [
       "               0                1       2  3     4     5       6    7   8   \\\n",
       "0      8091411040  20140701T000000  274900  4   2.5  1970    6600    2  No   \n",
       "1      5702380730  20140823T000000  230000  2     2  1340    7605    1  No   \n",
       "2      7697800040  20140826T000000  470000  4  2.75  2150    9820    1  No   \n",
       "3      4074300150  20150417T000000  460000  4  1.75  1560    7200    1  No   \n",
       "4      6398000171  20140710T000000  545000  2     2  2930   14057    1  No   \n",
       "...           ...              ...     ... ..   ...   ...     ...  ...  ..   \n",
       "17285  1862400226  20150311T000000  505000  2     1  1070    8130    1  No   \n",
       "17286  2851200100  20140701T000000  955500  4  1.75  2130    5080  1.5  No   \n",
       "17287   620079042  20150323T000000  370000  2     1  2360  105850    1  No   \n",
       "17288   207700180  20150121T000000  555000  5   2.5  2450    5047    2  No   \n",
       "17289  8011100095  20140610T000000  415000  3   2.5  2090    6045    2  No   \n",
       "\n",
       "        9   ... 11    12    13    14   15     16       17       18    19  \\\n",
       "0       No  ...  7  1970     0  1987   No  98030  47.3491 -122.168  1970   \n",
       "1       No  ...  7  1340     0  1992   No  98022  47.1936 -121.981  1670   \n",
       "2       No  ...  8  1220   930  1979   No  98011  47.7758   -122.2  2060   \n",
       "3       No  ...  6   860   700  1943   No  98115  47.7001 -122.279  1420   \n",
       "4      Yes  ...  8  1680  1250  1980   No  98070  47.4025 -122.463  2234   \n",
       "...    ...  ... ..   ...   ...   ...  ...    ...      ...      ...   ...   \n",
       "17285   No  ...  7  1070     0  1942   No  98117   47.697  -122.37  1360   \n",
       "17286   No  ...  8  2130     0  1914  Yes  98119  47.6427 -122.363  1900   \n",
       "17287  Yes  ...  6  1180  1180  1947   No  98022  47.2495  -121.97  2640   \n",
       "17288   No  ...  8  2450     0  2007   No  98011  47.7724 -122.168  2450   \n",
       "17289   No  ...  8  2090     0  2000   No  98056  47.4947 -122.174  2040   \n",
       "\n",
       "           20  \n",
       "0        7682  \n",
       "1        7136  \n",
       "2        9830  \n",
       "3        7200  \n",
       "4       61011  \n",
       "...       ...  \n",
       "17285    7653  \n",
       "17286    5080  \n",
       "17287  386812  \n",
       "17288    4478  \n",
       "17289    6392  \n",
       "\n",
       "[17290 rows x 21 columns]"
      ]
     },
     "execution_count": 35,
     "metadata": {},
     "output_type": "execute_result"
    }
   ],
   "source": [
    "yesno=yes_no()\n",
    "pd.DataFrame(yesno.fit_transform(housing))"
   ]
  },
  {
   "cell_type": "code",
   "execution_count": 36,
   "metadata": {},
   "outputs": [],
   "source": [
    "#let's handle a date column\n",
    "from sklearn.base import BaseEstimator, TransformerMixin\n",
    "\n",
    "class date_extractor(BaseEstimator, TransformerMixin):\n",
    "    \n",
    "    def __init__(self):\n",
    "        pass\n",
    "    def fit(self,X,y=None):\n",
    "        return self\n",
    "    def get_year( self, obj ):\n",
    "        return str(obj)[:4]\n",
    "    \n",
    "    #Helper function to extract month from column 'dates'\n",
    "    def get_month( self, obj ):\n",
    "        return str(obj)[4:6]\n",
    "    \n",
    "    #Helper function to extract day from column 'dates'\n",
    "    def get_day(self, obj):\n",
    "        return str(obj)[6:8]\n",
    "    def transform(self,X,y=None):\n",
    "        X.loc[:,'Year']=X['date'].apply(self.get_year)\n",
    "        X.loc[:,'Month']=X['date'].apply(self.get_month)\n",
    "        X.loc[:,'Day']=X['date'].apply(self.get_day)\n",
    "        X=X.drop('date',axis=1)\n",
    "        return X.values"
   ]
  },
  {
   "cell_type": "code",
   "execution_count": 37,
   "metadata": {},
   "outputs": [
    {
     "data": {
      "text/html": [
       "<div>\n",
       "<style scoped>\n",
       "    .dataframe tbody tr th:only-of-type {\n",
       "        vertical-align: middle;\n",
       "    }\n",
       "\n",
       "    .dataframe tbody tr th {\n",
       "        vertical-align: top;\n",
       "    }\n",
       "\n",
       "    .dataframe thead th {\n",
       "        text-align: right;\n",
       "    }\n",
       "</style>\n",
       "<table border=\"1\" class=\"dataframe\">\n",
       "  <thead>\n",
       "    <tr style=\"text-align: right;\">\n",
       "      <th></th>\n",
       "      <th>0</th>\n",
       "      <th>1</th>\n",
       "      <th>2</th>\n",
       "      <th>3</th>\n",
       "      <th>4</th>\n",
       "      <th>5</th>\n",
       "      <th>6</th>\n",
       "      <th>7</th>\n",
       "      <th>8</th>\n",
       "      <th>9</th>\n",
       "      <th>...</th>\n",
       "      <th>13</th>\n",
       "      <th>14</th>\n",
       "      <th>15</th>\n",
       "      <th>16</th>\n",
       "      <th>17</th>\n",
       "      <th>18</th>\n",
       "      <th>19</th>\n",
       "      <th>20</th>\n",
       "      <th>21</th>\n",
       "      <th>22</th>\n",
       "    </tr>\n",
       "  </thead>\n",
       "  <tbody>\n",
       "    <tr>\n",
       "      <th>0</th>\n",
       "      <td>8091411040</td>\n",
       "      <td>274900</td>\n",
       "      <td>4</td>\n",
       "      <td>2.5</td>\n",
       "      <td>1970</td>\n",
       "      <td>6600</td>\n",
       "      <td>2</td>\n",
       "      <td>No</td>\n",
       "      <td>No</td>\n",
       "      <td>3</td>\n",
       "      <td>...</td>\n",
       "      <td>1987</td>\n",
       "      <td>No</td>\n",
       "      <td>98030</td>\n",
       "      <td>47.3491</td>\n",
       "      <td>-122.168</td>\n",
       "      <td>1970</td>\n",
       "      <td>7682</td>\n",
       "      <td>2014</td>\n",
       "      <td>07</td>\n",
       "      <td>01</td>\n",
       "    </tr>\n",
       "    <tr>\n",
       "      <th>1</th>\n",
       "      <td>5702380730</td>\n",
       "      <td>230000</td>\n",
       "      <td>2</td>\n",
       "      <td>2</td>\n",
       "      <td>1340</td>\n",
       "      <td>7605</td>\n",
       "      <td>1</td>\n",
       "      <td>No</td>\n",
       "      <td>No</td>\n",
       "      <td>3</td>\n",
       "      <td>...</td>\n",
       "      <td>1992</td>\n",
       "      <td>No</td>\n",
       "      <td>98022</td>\n",
       "      <td>47.1936</td>\n",
       "      <td>-121.981</td>\n",
       "      <td>1670</td>\n",
       "      <td>7136</td>\n",
       "      <td>2014</td>\n",
       "      <td>08</td>\n",
       "      <td>23</td>\n",
       "    </tr>\n",
       "    <tr>\n",
       "      <th>2</th>\n",
       "      <td>7697800040</td>\n",
       "      <td>470000</td>\n",
       "      <td>4</td>\n",
       "      <td>2.75</td>\n",
       "      <td>2150</td>\n",
       "      <td>9820</td>\n",
       "      <td>1</td>\n",
       "      <td>No</td>\n",
       "      <td>No</td>\n",
       "      <td>4</td>\n",
       "      <td>...</td>\n",
       "      <td>1979</td>\n",
       "      <td>No</td>\n",
       "      <td>98011</td>\n",
       "      <td>47.7758</td>\n",
       "      <td>-122.2</td>\n",
       "      <td>2060</td>\n",
       "      <td>9830</td>\n",
       "      <td>2014</td>\n",
       "      <td>08</td>\n",
       "      <td>26</td>\n",
       "    </tr>\n",
       "    <tr>\n",
       "      <th>3</th>\n",
       "      <td>4074300150</td>\n",
       "      <td>460000</td>\n",
       "      <td>4</td>\n",
       "      <td>1.75</td>\n",
       "      <td>1560</td>\n",
       "      <td>7200</td>\n",
       "      <td>1</td>\n",
       "      <td>No</td>\n",
       "      <td>No</td>\n",
       "      <td>3</td>\n",
       "      <td>...</td>\n",
       "      <td>1943</td>\n",
       "      <td>No</td>\n",
       "      <td>98115</td>\n",
       "      <td>47.7001</td>\n",
       "      <td>-122.279</td>\n",
       "      <td>1420</td>\n",
       "      <td>7200</td>\n",
       "      <td>2015</td>\n",
       "      <td>04</td>\n",
       "      <td>17</td>\n",
       "    </tr>\n",
       "    <tr>\n",
       "      <th>4</th>\n",
       "      <td>6398000171</td>\n",
       "      <td>545000</td>\n",
       "      <td>2</td>\n",
       "      <td>2</td>\n",
       "      <td>2930</td>\n",
       "      <td>14057</td>\n",
       "      <td>1</td>\n",
       "      <td>No</td>\n",
       "      <td>Yes</td>\n",
       "      <td>4</td>\n",
       "      <td>...</td>\n",
       "      <td>1980</td>\n",
       "      <td>No</td>\n",
       "      <td>98070</td>\n",
       "      <td>47.4025</td>\n",
       "      <td>-122.463</td>\n",
       "      <td>2234</td>\n",
       "      <td>61011</td>\n",
       "      <td>2014</td>\n",
       "      <td>07</td>\n",
       "      <td>10</td>\n",
       "    </tr>\n",
       "    <tr>\n",
       "      <th>...</th>\n",
       "      <td>...</td>\n",
       "      <td>...</td>\n",
       "      <td>...</td>\n",
       "      <td>...</td>\n",
       "      <td>...</td>\n",
       "      <td>...</td>\n",
       "      <td>...</td>\n",
       "      <td>...</td>\n",
       "      <td>...</td>\n",
       "      <td>...</td>\n",
       "      <td>...</td>\n",
       "      <td>...</td>\n",
       "      <td>...</td>\n",
       "      <td>...</td>\n",
       "      <td>...</td>\n",
       "      <td>...</td>\n",
       "      <td>...</td>\n",
       "      <td>...</td>\n",
       "      <td>...</td>\n",
       "      <td>...</td>\n",
       "      <td>...</td>\n",
       "    </tr>\n",
       "    <tr>\n",
       "      <th>17285</th>\n",
       "      <td>1862400226</td>\n",
       "      <td>505000</td>\n",
       "      <td>2</td>\n",
       "      <td>1</td>\n",
       "      <td>1070</td>\n",
       "      <td>8130</td>\n",
       "      <td>1</td>\n",
       "      <td>No</td>\n",
       "      <td>No</td>\n",
       "      <td>3</td>\n",
       "      <td>...</td>\n",
       "      <td>1942</td>\n",
       "      <td>No</td>\n",
       "      <td>98117</td>\n",
       "      <td>47.697</td>\n",
       "      <td>-122.37</td>\n",
       "      <td>1360</td>\n",
       "      <td>7653</td>\n",
       "      <td>2015</td>\n",
       "      <td>03</td>\n",
       "      <td>11</td>\n",
       "    </tr>\n",
       "    <tr>\n",
       "      <th>17286</th>\n",
       "      <td>2851200100</td>\n",
       "      <td>955500</td>\n",
       "      <td>4</td>\n",
       "      <td>1.75</td>\n",
       "      <td>2130</td>\n",
       "      <td>5080</td>\n",
       "      <td>1.5</td>\n",
       "      <td>No</td>\n",
       "      <td>No</td>\n",
       "      <td>3</td>\n",
       "      <td>...</td>\n",
       "      <td>1914</td>\n",
       "      <td>Yes</td>\n",
       "      <td>98119</td>\n",
       "      <td>47.6427</td>\n",
       "      <td>-122.363</td>\n",
       "      <td>1900</td>\n",
       "      <td>5080</td>\n",
       "      <td>2014</td>\n",
       "      <td>07</td>\n",
       "      <td>01</td>\n",
       "    </tr>\n",
       "    <tr>\n",
       "      <th>17287</th>\n",
       "      <td>620079042</td>\n",
       "      <td>370000</td>\n",
       "      <td>2</td>\n",
       "      <td>1</td>\n",
       "      <td>2360</td>\n",
       "      <td>105850</td>\n",
       "      <td>1</td>\n",
       "      <td>No</td>\n",
       "      <td>Yes</td>\n",
       "      <td>2</td>\n",
       "      <td>...</td>\n",
       "      <td>1947</td>\n",
       "      <td>No</td>\n",
       "      <td>98022</td>\n",
       "      <td>47.2495</td>\n",
       "      <td>-121.97</td>\n",
       "      <td>2640</td>\n",
       "      <td>386812</td>\n",
       "      <td>2015</td>\n",
       "      <td>03</td>\n",
       "      <td>23</td>\n",
       "    </tr>\n",
       "    <tr>\n",
       "      <th>17288</th>\n",
       "      <td>207700180</td>\n",
       "      <td>555000</td>\n",
       "      <td>5</td>\n",
       "      <td>2.5</td>\n",
       "      <td>2450</td>\n",
       "      <td>5047</td>\n",
       "      <td>2</td>\n",
       "      <td>No</td>\n",
       "      <td>No</td>\n",
       "      <td>3</td>\n",
       "      <td>...</td>\n",
       "      <td>2007</td>\n",
       "      <td>No</td>\n",
       "      <td>98011</td>\n",
       "      <td>47.7724</td>\n",
       "      <td>-122.168</td>\n",
       "      <td>2450</td>\n",
       "      <td>4478</td>\n",
       "      <td>2015</td>\n",
       "      <td>01</td>\n",
       "      <td>21</td>\n",
       "    </tr>\n",
       "    <tr>\n",
       "      <th>17289</th>\n",
       "      <td>8011100095</td>\n",
       "      <td>415000</td>\n",
       "      <td>3</td>\n",
       "      <td>2.5</td>\n",
       "      <td>2090</td>\n",
       "      <td>6045</td>\n",
       "      <td>2</td>\n",
       "      <td>No</td>\n",
       "      <td>No</td>\n",
       "      <td>3</td>\n",
       "      <td>...</td>\n",
       "      <td>2000</td>\n",
       "      <td>No</td>\n",
       "      <td>98056</td>\n",
       "      <td>47.4947</td>\n",
       "      <td>-122.174</td>\n",
       "      <td>2040</td>\n",
       "      <td>6392</td>\n",
       "      <td>2014</td>\n",
       "      <td>06</td>\n",
       "      <td>10</td>\n",
       "    </tr>\n",
       "  </tbody>\n",
       "</table>\n",
       "<p>17290 rows × 23 columns</p>\n",
       "</div>"
      ],
      "text/plain": [
       "               0       1  2     3     4       5    6   7    8  9   ...    13  \\\n",
       "0      8091411040  274900  4   2.5  1970    6600    2  No   No  3  ...  1987   \n",
       "1      5702380730  230000  2     2  1340    7605    1  No   No  3  ...  1992   \n",
       "2      7697800040  470000  4  2.75  2150    9820    1  No   No  4  ...  1979   \n",
       "3      4074300150  460000  4  1.75  1560    7200    1  No   No  3  ...  1943   \n",
       "4      6398000171  545000  2     2  2930   14057    1  No  Yes  4  ...  1980   \n",
       "...           ...     ... ..   ...   ...     ...  ...  ..  ... ..  ...   ...   \n",
       "17285  1862400226  505000  2     1  1070    8130    1  No   No  3  ...  1942   \n",
       "17286  2851200100  955500  4  1.75  2130    5080  1.5  No   No  3  ...  1914   \n",
       "17287   620079042  370000  2     1  2360  105850    1  No  Yes  2  ...  1947   \n",
       "17288   207700180  555000  5   2.5  2450    5047    2  No   No  3  ...  2007   \n",
       "17289  8011100095  415000  3   2.5  2090    6045    2  No   No  3  ...  2000   \n",
       "\n",
       "        14     15       16       17    18      19    20  21  22  \n",
       "0       No  98030  47.3491 -122.168  1970    7682  2014  07  01  \n",
       "1       No  98022  47.1936 -121.981  1670    7136  2014  08  23  \n",
       "2       No  98011  47.7758   -122.2  2060    9830  2014  08  26  \n",
       "3       No  98115  47.7001 -122.279  1420    7200  2015  04  17  \n",
       "4       No  98070  47.4025 -122.463  2234   61011  2014  07  10  \n",
       "...    ...    ...      ...      ...   ...     ...   ...  ..  ..  \n",
       "17285   No  98117   47.697  -122.37  1360    7653  2015  03  11  \n",
       "17286  Yes  98119  47.6427 -122.363  1900    5080  2014  07  01  \n",
       "17287   No  98022  47.2495  -121.97  2640  386812  2015  03  23  \n",
       "17288   No  98011  47.7724 -122.168  2450    4478  2015  01  21  \n",
       "17289   No  98056  47.4947 -122.174  2040    6392  2014  06  10  \n",
       "\n",
       "[17290 rows x 23 columns]"
      ]
     },
     "execution_count": 37,
     "metadata": {},
     "output_type": "execute_result"
    }
   ],
   "source": [
    "date=date_extractor()\n",
    "pd.DataFrame(date.fit_transform(housing))"
   ]
  },
  {
   "cell_type": "code",
   "execution_count": 38,
   "metadata": {},
   "outputs": [],
   "source": [
    "#so far we have handled the 4 data columns \n",
    "#let's create a custom transformer that selects the columns we want to keep"
   ]
  },
  {
   "cell_type": "code",
   "execution_count": 39,
   "metadata": {},
   "outputs": [],
   "source": [
    "class FeatureSelector( BaseEstimator, TransformerMixin ):\n",
    "    #Class Constructor \n",
    "    def __init__( self, feature_names ):\n",
    "        self._feature_names = feature_names \n",
    "    \n",
    "    #Return self nothing else to do here    \n",
    "    def fit( self, X, y = None ):\n",
    "        return self \n",
    "    \n",
    "    #Method that describes what we need this transformer to do\n",
    "    def transform( self, X, y = None ):\n",
    "        return X[ self._feature_names ] "
   ]
  },
  {
   "cell_type": "code",
   "execution_count": 40,
   "metadata": {},
   "outputs": [],
   "source": [
    "#so far we have sucessfully handled the categorical data, let's wrapped up all of these task into a clean transformer"
   ]
  },
  {
   "cell_type": "code",
   "execution_count": 41,
   "metadata": {},
   "outputs": [],
   "source": [
    "class categorical_transformer(BaseEstimator,TransformerMixin):\n",
    "    def init(self):\n",
    "        pass\n",
    "    def fit(self,X,y=None):\n",
    "        return self\n",
    "    #Helper function to extract year from column 'dates'\n",
    "    def get_year( self, obj ):\n",
    "        return str(obj)[:4]\n",
    "    \n",
    "    #Helper function to extract month from column 'dates'\n",
    "    def get_month( self, obj ):\n",
    "        return str(obj)[4:6]\n",
    "    \n",
    "    #Helper function to extract day from column 'dates'\n",
    "    def get_day(self, obj):\n",
    "        return str(obj)[6:8]\n",
    "    def binary_creator(self,x):\n",
    "        if x == 0:\n",
    "            return \"No\"\n",
    "        else:\n",
    "            return \"Yes\"    \n",
    "    def transform(self,X,y=None):\n",
    "        X.loc[:,'Year']=X['date'].apply(self.get_year)\n",
    "        X.loc[:,'Month']=X['date'].apply(self.get_month)\n",
    "        X.loc[:,'Day']=X['date'].apply(self.get_day)\n",
    "        X=X.drop('date',axis=1)\n",
    "        X.loc[:,\"waterfront\"]=X['waterfront'].apply(self.binary_creator)\n",
    "        X.loc[:,'view']=X['view'].apply(self.binary_creator)\n",
    "        X.loc[:,'yr_renovated']=X['yr_renovated'].apply(self.binary_creator)\n",
    "        return X.values        "
   ]
  },
  {
   "cell_type": "code",
   "execution_count": 42,
   "metadata": {},
   "outputs": [],
   "source": [
    "#now wrap all of the important steps into a categorical pipeline"
   ]
  },
  {
   "cell_type": "code",
   "execution_count": 43,
   "metadata": {},
   "outputs": [],
   "source": [
    "from sklearn.pipeline import Pipeline\n",
    "from sklearn.preprocessing import OneHotEncoder"
   ]
  },
  {
   "cell_type": "code",
   "execution_count": 44,
   "metadata": {},
   "outputs": [],
   "source": [
    "cat_features=['date','waterfront','view','yr_renovated']\n",
    "cat_pipeline=Pipeline(steps=[('cat_feature_selector',FeatureSelector(cat_features)),\n",
    "                             ('cat_transformer',categorical_transformer()),\n",
    "                             ('one_hot_encoder',OneHotEncoder(sparse=False))\n",
    "    \n",
    "])"
   ]
  },
  {
   "cell_type": "code",
   "execution_count": 45,
   "metadata": {},
   "outputs": [
    {
     "data": {
      "text/plain": [
       "array([[1., 1., 1., ..., 0., 0., 0.],\n",
       "       [1., 1., 1., ..., 0., 0., 0.],\n",
       "       [1., 1., 1., ..., 0., 0., 0.],\n",
       "       ...,\n",
       "       [1., 1., 1., ..., 0., 0., 0.],\n",
       "       [1., 1., 1., ..., 0., 0., 0.],\n",
       "       [1., 1., 1., ..., 0., 0., 0.]])"
      ]
     },
     "execution_count": 45,
     "metadata": {},
     "output_type": "execute_result"
    }
   ],
   "source": [
    "cat_pipeline.fit_transform(housing)"
   ]
  },
  {
   "cell_type": "markdown",
   "metadata": {},
   "source": [
    "# Numerical Features"
   ]
  },
  {
   "cell_type": "code",
   "execution_count": 46,
   "metadata": {},
   "outputs": [],
   "source": [
    "# so far we have handled the categorical data let's try handling numerical data"
   ]
  },
  {
   "cell_type": "code",
   "execution_count": 47,
   "metadata": {},
   "outputs": [
    {
     "name": "stdout",
     "output_type": "stream",
     "text": [
      "<class 'pandas.core.frame.DataFrame'>\n",
      "Int64Index: 17290 entries, 2800 to 17072\n",
      "Data columns (total 24 columns):\n",
      "id               17290 non-null int64\n",
      "date             17290 non-null object\n",
      "price            17290 non-null float64\n",
      "bedrooms         17290 non-null int64\n",
      "bathrooms        17290 non-null float64\n",
      "sqft_living      17290 non-null int64\n",
      "sqft_lot         17290 non-null int64\n",
      "floors           17290 non-null float64\n",
      "waterfront       17290 non-null object\n",
      "view             17290 non-null object\n",
      "condition        17290 non-null int64\n",
      "grade            17290 non-null int64\n",
      "sqft_above       17290 non-null int64\n",
      "sqft_basement    17290 non-null int64\n",
      "yr_built         17290 non-null int64\n",
      "yr_renovated     17290 non-null object\n",
      "zipcode          17290 non-null int64\n",
      "lat              17290 non-null float64\n",
      "long             17290 non-null float64\n",
      "sqft_living15    17290 non-null int64\n",
      "sqft_lot15       17290 non-null int64\n",
      "Year             17290 non-null object\n",
      "Month            17290 non-null object\n",
      "Day              17290 non-null object\n",
      "dtypes: float64(5), int64(12), object(7)\n",
      "memory usage: 3.3+ MB\n"
     ]
    }
   ],
   "source": [
    "housing.info()"
   ]
  },
  {
   "cell_type": "code",
   "execution_count": 48,
   "metadata": {},
   "outputs": [],
   "source": [
    "# the numerical features that we are going to select are \n",
    "num_features=['bedrooms', 'bathrooms', 'sqft_living', 'sqft_lot', 'floors',\n",
    "                'condition', 'grade','sqft_above','sqft_basement', 'yr_built','lat','long']"
   ]
  },
  {
   "cell_type": "code",
   "execution_count": 49,
   "metadata": {},
   "outputs": [],
   "source": [
    "#let's try combiniation of attributes but we will surely gate it with hyperparameter\n",
    "housing['bath_per_bed']=housing['bedrooms']/housing['bathrooms']"
   ]
  },
  {
   "cell_type": "code",
   "execution_count": 50,
   "metadata": {},
   "outputs": [
    {
     "data": {
      "text/plain": [
       "price            1.000000\n",
       "sqft_living      0.699761\n",
       "grade            0.668203\n",
       "sqft_above       0.606433\n",
       "sqft_living15    0.585247\n",
       "bathrooms        0.521683\n",
       "sqft_basement    0.316472\n",
       "bedrooms         0.312636\n",
       "lat              0.307794\n",
       "floors           0.256186\n",
       "sqft_lot         0.089452\n",
       "sqft_lot15       0.084191\n",
       "yr_built         0.054800\n",
       "condition        0.027004\n",
       "long             0.023783\n",
       "id              -0.018242\n",
       "zipcode         -0.058859\n",
       "bath_per_bed    -0.251342\n",
       "Name: price, dtype: float64"
      ]
     },
     "execution_count": 50,
     "metadata": {},
     "output_type": "execute_result"
    }
   ],
   "source": [
    "housing.corr()['price'].sort_values(ascending=False)\n",
    "#it doesnot look too much coorelated but we are going to keep it for now\n",
    "#it tells that the prices will go down if there are less bathrooms per bedrooms"
   ]
  },
  {
   "cell_type": "code",
   "execution_count": 51,
   "metadata": {},
   "outputs": [],
   "source": [
    "#let's also check if recently created houses have high correlation with the price\n",
    "housing['years_old']=housing['yr_built']-2020"
   ]
  },
  {
   "cell_type": "code",
   "execution_count": 52,
   "metadata": {},
   "outputs": [
    {
     "data": {
      "text/plain": [
       "price            1.000000\n",
       "sqft_living      0.699761\n",
       "grade            0.668203\n",
       "sqft_above       0.606433\n",
       "sqft_living15    0.585247\n",
       "bathrooms        0.521683\n",
       "sqft_basement    0.316472\n",
       "bedrooms         0.312636\n",
       "lat              0.307794\n",
       "floors           0.256186\n",
       "sqft_lot         0.089452\n",
       "sqft_lot15       0.084191\n",
       "years_old        0.054800\n",
       "yr_built         0.054800\n",
       "condition        0.027004\n",
       "long             0.023783\n",
       "id              -0.018242\n",
       "zipcode         -0.058859\n",
       "bath_per_bed    -0.251342\n",
       "Name: price, dtype: float64"
      ]
     },
     "execution_count": 52,
     "metadata": {},
     "output_type": "execute_result"
    }
   ],
   "source": [
    "housing.corr()['price'].sort_values(ascending=False)\n",
    "#not really so we are going to keep it simple and drop this combination argument"
   ]
  },
  {
   "cell_type": "code",
   "execution_count": 53,
   "metadata": {},
   "outputs": [],
   "source": [
    "class numerical_transformer(BaseEstimator,TransformerMixin):\n",
    "    def __init__(self,bath_per_bed=True):\n",
    "        self._bath_per_bed=bath_per_bed\n",
    "    def fit(self,X,y=None):\n",
    "        return self\n",
    "    def transform(self,X,y=None):\n",
    "        if self._bath_per_bed:\n",
    "            X.loc[:,'bath_per_bed']=X['bathrooms']/X['bedrooms']\n",
    "            X.drop('bathrooms',axis=1)\n",
    "        #Converting any infinity values in the dataset to Nan\n",
    "        X = X.replace( [ np.inf, -np.inf ], np.nan )       \n",
    "        return X.values"
   ]
  },
  {
   "cell_type": "code",
   "execution_count": 54,
   "metadata": {},
   "outputs": [
    {
     "data": {
      "text/plain": [
       "array([[8091411040, '20140701T000000', 274900.0, ..., '01', 0.625, -33],\n",
       "       [5702380730, '20140823T000000', 230000.0, ..., '23', 1.0, -28],\n",
       "       [7697800040, '20140826T000000', 470000.0, ..., '26', 0.6875, -41],\n",
       "       ...,\n",
       "       [620079042, '20150323T000000', 370000.0, ..., '23', 0.5, -73],\n",
       "       [207700180, '20150121T000000', 555000.0, ..., '21', 0.5, -13],\n",
       "       [8011100095, '20140610T000000', 415000.0, ..., '10',\n",
       "        0.8333333333333334, -20]], dtype=object)"
      ]
     },
     "execution_count": 54,
     "metadata": {},
     "output_type": "execute_result"
    }
   ],
   "source": [
    "data1=numerical_transformer()\n",
    "data1.fit_transform(housing)"
   ]
  },
  {
   "cell_type": "code",
   "execution_count": 55,
   "metadata": {},
   "outputs": [],
   "source": [
    "#now let's wrap our numerical features into numerical pipeline "
   ]
  },
  {
   "cell_type": "code",
   "execution_count": 56,
   "metadata": {},
   "outputs": [],
   "source": [
    "#as a good practice, let's also include imputer to handle with any missing value\n",
    "from sklearn.impute import SimpleImputer\n",
    "#also import standard scalar\n",
    "from sklearn.preprocessing import StandardScaler"
   ]
  },
  {
   "cell_type": "code",
   "execution_count": 57,
   "metadata": {},
   "outputs": [],
   "source": [
    "num_pipeline=Pipeline(steps=[('num_feature_selector',FeatureSelector(num_features)),\n",
    "                             ('num_transformer',numerical_transformer()),\n",
    "                             ('num_imputer',SimpleImputer(strategy='median')),\n",
    "                             ('num_scalar',StandardScaler())\n",
    "                            ])"
   ]
  },
  {
   "cell_type": "code",
   "execution_count": 58,
   "metadata": {},
   "outputs": [
    {
     "data": {
      "text/plain": [
       "array([[ 0.69262945,  0.50070345, -0.11953839, ..., -1.52162017,\n",
       "         0.32546585, -0.07725768],\n",
       "       [-1.50411698, -0.14991752, -0.80700991, ..., -2.64099265,\n",
       "         1.64724903,  1.69156168],\n",
       "       [ 0.69262945,  0.82601393,  0.07688205, ...,  1.54999548,\n",
       "         0.09927836,  0.21754555],\n",
       "       ...,\n",
       "       [-1.50411698, -1.45115946,  0.30603922, ..., -2.23859444,\n",
       "         1.72500098, -0.66686413],\n",
       "       [ 1.79100266,  0.50070345,  0.40424943, ...,  1.52552046,\n",
       "         0.32546585, -0.66686413],\n",
       "       [-0.40574377,  0.50070345,  0.01140857, ..., -0.47351321,\n",
       "         0.2830557 ,  0.90541974]])"
      ]
     },
     "execution_count": 58,
     "metadata": {},
     "output_type": "execute_result"
    }
   ],
   "source": [
    "num_pipeline.fit_transform(housing)"
   ]
  },
  {
   "cell_type": "markdown",
   "metadata": {},
   "source": [
    "# Final Pipeline"
   ]
  },
  {
   "cell_type": "code",
   "execution_count": 59,
   "metadata": {},
   "outputs": [],
   "source": [
    "#let's combine both numeric and categorical pipeline into one clean pipeline\n",
    "from sklearn.pipeline import FeatureUnion"
   ]
  },
  {
   "cell_type": "code",
   "execution_count": 60,
   "metadata": {},
   "outputs": [],
   "source": [
    "full_pipeline = FeatureUnion( transformer_list = [ ( 'categorical_pipeline', cat_pipeline ), \n",
    "                                                  \n",
    "                                                  ( 'numerical_pipeline', num_pipeline ) ] )"
   ]
  },
  {
   "cell_type": "code",
   "execution_count": 61,
   "metadata": {},
   "outputs": [
    {
     "data": {
      "text/plain": [
       "array([[ 1.        ,  1.        ,  1.        , ..., -1.52162017,\n",
       "         0.32546585, -0.07725768],\n",
       "       [ 1.        ,  1.        ,  1.        , ..., -2.64099265,\n",
       "         1.64724903,  1.69156168],\n",
       "       [ 1.        ,  1.        ,  1.        , ...,  1.54999548,\n",
       "         0.09927836,  0.21754555],\n",
       "       ...,\n",
       "       [ 1.        ,  1.        ,  1.        , ..., -2.23859444,\n",
       "         1.72500098, -0.66686413],\n",
       "       [ 1.        ,  1.        ,  1.        , ...,  1.52552046,\n",
       "         0.32546585, -0.66686413],\n",
       "       [ 1.        ,  1.        ,  1.        , ..., -0.47351321,\n",
       "         0.2830557 ,  0.90541974]])"
      ]
     },
     "execution_count": 61,
     "metadata": {},
     "output_type": "execute_result"
    }
   ],
   "source": [
    "full_pipeline.fit_transform(housing)"
   ]
  },
  {
   "cell_type": "markdown",
   "metadata": {},
   "source": [
    "# Training the model"
   ]
  },
  {
   "cell_type": "code",
   "execution_count": 62,
   "metadata": {},
   "outputs": [],
   "source": [
    "#let's try simple plain linear regression first and check the results"
   ]
  },
  {
   "cell_type": "code",
   "execution_count": 63,
   "metadata": {},
   "outputs": [],
   "source": [
    "from sklearn.linear_model import LinearRegression"
   ]
  },
  {
   "cell_type": "code",
   "execution_count": 64,
   "metadata": {},
   "outputs": [],
   "source": [
    "lin_reg=LinearRegression()"
   ]
  },
  {
   "cell_type": "code",
   "execution_count": 65,
   "metadata": {},
   "outputs": [],
   "source": [
    "housing_prepared=full_pipeline.fit_transform(housing_tr)"
   ]
  },
  {
   "cell_type": "code",
   "execution_count": 66,
   "metadata": {},
   "outputs": [
    {
     "data": {
      "text/plain": [
       "LinearRegression(copy_X=True, fit_intercept=True, n_jobs=None, normalize=False)"
      ]
     },
     "execution_count": 66,
     "metadata": {},
     "output_type": "execute_result"
    }
   ],
   "source": [
    "lin_reg.fit(housing_prepared,housing_label)"
   ]
  },
  {
   "cell_type": "code",
   "execution_count": 67,
   "metadata": {},
   "outputs": [],
   "source": [
    "#let's check how it performed\n",
    "from sklearn.metrics import mean_squared_error"
   ]
  },
  {
   "cell_type": "code",
   "execution_count": 68,
   "metadata": {},
   "outputs": [],
   "source": [
    "y_pred=lin_reg.predict(housing_prepared)"
   ]
  },
  {
   "cell_type": "code",
   "execution_count": 69,
   "metadata": {},
   "outputs": [
    {
     "data": {
      "text/plain": [
       "201070.7026595465"
      ]
     },
     "execution_count": 69,
     "metadata": {},
     "output_type": "execute_result"
    }
   ],
   "source": [
    "np.sqrt(mean_squared_error(housing_label,y_pred))"
   ]
  },
  {
   "cell_type": "code",
   "execution_count": 70,
   "metadata": {},
   "outputs": [],
   "source": [
    "#the error margin is too big\n",
    "#let's also try by evaluating using cross validation"
   ]
  },
  {
   "cell_type": "code",
   "execution_count": 71,
   "metadata": {},
   "outputs": [],
   "source": [
    "from sklearn.model_selection import cross_val_score"
   ]
  },
  {
   "cell_type": "code",
   "execution_count": 72,
   "metadata": {},
   "outputs": [],
   "source": [
    "scores=cross_val_score(lin_reg,housing_prepared,housing_label,scoring='neg_mean_squared_error',cv=10)"
   ]
  },
  {
   "cell_type": "code",
   "execution_count": 73,
   "metadata": {},
   "outputs": [],
   "source": [
    "def display_score(scores):\n",
    "    scores=np.sqrt(-scores)\n",
    "    print(\"Scores:\", scores)\n",
    "    print('\\n')\n",
    "    print(\"The average score is\",np.mean(scores))\n",
    "    print('\\n')\n",
    "    print(\"Standard deviation:\", scores.std())"
   ]
  },
  {
   "cell_type": "code",
   "execution_count": 74,
   "metadata": {},
   "outputs": [
    {
     "name": "stdout",
     "output_type": "stream",
     "text": [
      "Scores: [182174.93978253 193755.3584351  203404.65133745 203381.53827418\n",
      " 228671.8243477  205557.64222051 227698.04638316 202493.05106733\n",
      " 190953.63963301 177586.98878008]\n",
      "\n",
      "\n",
      "The average score is 201567.76802610388\n",
      "\n",
      "\n",
      "Standard deviation: 16017.84470333426\n"
     ]
    }
   ],
   "source": [
    "display_score(scores)"
   ]
  },
  {
   "cell_type": "code",
   "execution_count": 75,
   "metadata": {},
   "outputs": [],
   "source": [
    "#let's try a slightly advance algorithm like descision tree\n",
    "from sklearn.tree import DecisionTreeRegressor"
   ]
  },
  {
   "cell_type": "code",
   "execution_count": 76,
   "metadata": {},
   "outputs": [],
   "source": [
    "tree_reg=DecisionTreeRegressor()"
   ]
  },
  {
   "cell_type": "code",
   "execution_count": 77,
   "metadata": {},
   "outputs": [
    {
     "data": {
      "text/plain": [
       "DecisionTreeRegressor(criterion='mse', max_depth=None, max_features=None,\n",
       "                      max_leaf_nodes=None, min_impurity_decrease=0.0,\n",
       "                      min_impurity_split=None, min_samples_leaf=1,\n",
       "                      min_samples_split=2, min_weight_fraction_leaf=0.0,\n",
       "                      presort=False, random_state=None, splitter='best')"
      ]
     },
     "execution_count": 77,
     "metadata": {},
     "output_type": "execute_result"
    }
   ],
   "source": [
    "tree_reg.fit(housing_prepared,housing_label)"
   ]
  },
  {
   "cell_type": "code",
   "execution_count": 78,
   "metadata": {},
   "outputs": [],
   "source": [
    "y_pred=tree_reg.predict(housing_prepared)"
   ]
  },
  {
   "cell_type": "code",
   "execution_count": 79,
   "metadata": {},
   "outputs": [
    {
     "data": {
      "text/plain": [
       "0.0"
      ]
     },
     "execution_count": 79,
     "metadata": {},
     "output_type": "execute_result"
    }
   ],
   "source": [
    "np.sqrt(mean_squared_error(housing_label,y_pred))"
   ]
  },
  {
   "cell_type": "code",
   "execution_count": 80,
   "metadata": {},
   "outputs": [],
   "source": [
    "#this shows the decision tree has badly overfit\n",
    "#let's also check cross_val_score"
   ]
  },
  {
   "cell_type": "code",
   "execution_count": 90,
   "metadata": {},
   "outputs": [],
   "source": [
    "scores=cross_val_score(tree_reg,housing_prepared,housing_label,cv=10,scoring='neg_mean_squared_error')"
   ]
  },
  {
   "cell_type": "code",
   "execution_count": 91,
   "metadata": {},
   "outputs": [
    {
     "name": "stdout",
     "output_type": "stream",
     "text": [
      "Scores: [202437.84631229 185858.79622703 220457.31113454 170611.06671008\n",
      " 184532.41863984 177648.90891067 189742.51020806 195959.57609392\n",
      " 231828.37842712 168320.55643014]\n",
      "\n",
      "\n",
      "The average score is 192739.73690936994\n",
      "\n",
      "\n",
      "Standard deviation: 19590.82643100823\n"
     ]
    }
   ],
   "source": [
    "display_score(scores)"
   ]
  },
  {
   "cell_type": "code",
   "execution_count": 92,
   "metadata": {},
   "outputs": [],
   "source": [
    "#it performed slightly better than the linear regression"
   ]
  },
  {
   "cell_type": "code",
   "execution_count": 93,
   "metadata": {},
   "outputs": [],
   "source": [
    "#let's check using random forest"
   ]
  },
  {
   "cell_type": "code",
   "execution_count": 90,
   "metadata": {},
   "outputs": [],
   "source": [
    "from sklearn.ensemble import RandomForestRegressor"
   ]
  },
  {
   "cell_type": "code",
   "execution_count": 91,
   "metadata": {},
   "outputs": [],
   "source": [
    "forest_reg=RandomForestRegressor(n_estimators=100)"
   ]
  },
  {
   "cell_type": "code",
   "execution_count": 92,
   "metadata": {},
   "outputs": [],
   "source": [
    "scores=cross_val_score(forest_reg,housing_prepared,housing_label,cv=10,scoring='neg_mean_squared_error')"
   ]
  },
  {
   "cell_type": "code",
   "execution_count": 93,
   "metadata": {},
   "outputs": [
    {
     "name": "stdout",
     "output_type": "stream",
     "text": [
      "Scores: [130915.93020329 131449.42652682 143251.19609112 113833.47975223\n",
      " 138689.80842506 124139.63863115 144004.3850442  131847.52761867\n",
      " 142996.63453352 110497.2883801 ]\n",
      "\n",
      "\n",
      "The average score is 131162.53152061754\n",
      "\n",
      "\n",
      "Standard deviation: 11335.945391229345\n"
     ]
    }
   ],
   "source": [
    "display_score(scores)"
   ]
  },
  {
   "cell_type": "code",
   "execution_count": 98,
   "metadata": {},
   "outputs": [],
   "source": [
    "#it performed significantly better let's try to fine tune model more so that we can attain more good score"
   ]
  },
  {
   "cell_type": "code",
   "execution_count": 89,
   "metadata": {},
   "outputs": [],
   "source": [
    "from sklearn.model_selection import GridSearchCV"
   ]
  },
  {
   "cell_type": "code",
   "execution_count": 84,
   "metadata": {},
   "outputs": [],
   "source": [
    "param_grid = [\n",
    "{'n_estimators': [3, 10, 30,50,100], 'max_features': [2, 4, 6, 8,12]},\n",
    "{'bootstrap': [False], 'n_estimators': [3, 10], 'max_features': [2, 3, 4]},\n",
    "]\n",
    "forest_reg=RandomForestRegressor()\n",
    "grid_search=GridSearchCV(forest_reg,param_grid=param_grid,scoring='neg_mean_squared_error',return_train_score=True,cv=5)"
   ]
  },
  {
   "cell_type": "code",
   "execution_count": 106,
   "metadata": {},
   "outputs": [
    {
     "data": {
      "text/plain": [
       "GridSearchCV(cv=5, error_score='raise-deprecating',\n",
       "             estimator=RandomForestRegressor(bootstrap=True, criterion='mse',\n",
       "                                             max_depth=None,\n",
       "                                             max_features='auto',\n",
       "                                             max_leaf_nodes=None,\n",
       "                                             min_impurity_decrease=0.0,\n",
       "                                             min_impurity_split=None,\n",
       "                                             min_samples_leaf=1,\n",
       "                                             min_samples_split=2,\n",
       "                                             min_weight_fraction_leaf=0.0,\n",
       "                                             n_estimators='warn', n_jobs=None,\n",
       "                                             oob_score=False, random_state=None,\n",
       "                                             verbose=0, warm_start=False),\n",
       "             iid='warn', n_jobs=None,\n",
       "             param_grid=[{'max_features': [2, 4, 6, 8, 12],\n",
       "                          'n_estimators': [3, 10, 30, 50, 100]},\n",
       "                         {'bootstrap': [False], 'max_features': [2, 3, 4],\n",
       "                          'n_estimators': [3, 10]}],\n",
       "             pre_dispatch='2*n_jobs', refit=True, return_train_score=True,\n",
       "             scoring='neg_mean_squared_error', verbose=0)"
      ]
     },
     "execution_count": 106,
     "metadata": {},
     "output_type": "execute_result"
    }
   ],
   "source": [
    "grid_search.fit(housing_prepared,housing_label)"
   ]
  },
  {
   "cell_type": "code",
   "execution_count": 107,
   "metadata": {},
   "outputs": [
    {
     "data": {
      "text/plain": [
       "{'max_features': 12, 'n_estimators': 100}"
      ]
     },
     "execution_count": 107,
     "metadata": {},
     "output_type": "execute_result"
    }
   ],
   "source": [
    "grid_search.best_params_"
   ]
  },
  {
   "cell_type": "code",
   "execution_count": 108,
   "metadata": {},
   "outputs": [
    {
     "data": {
      "text/plain": [
       "['grid_search.pkl']"
      ]
     },
     "execution_count": 108,
     "metadata": {},
     "output_type": "execute_result"
    }
   ],
   "source": [
    "import joblib \n",
    "joblib.dump(grid_search,'grid_search.pkl')"
   ]
  },
  {
   "cell_type": "code",
   "execution_count": 86,
   "metadata": {},
   "outputs": [],
   "source": [
    "import joblib\n",
    "grid_search = joblib.load('model\\grid_search.pkl')"
   ]
  },
  {
   "cell_type": "code",
   "execution_count": 87,
   "metadata": {},
   "outputs": [
    {
     "data": {
      "text/plain": [
       "{'max_features': 12, 'n_estimators': 100}"
      ]
     },
     "execution_count": 87,
     "metadata": {},
     "output_type": "execute_result"
    }
   ],
   "source": [
    "grid_search.best_params_"
   ]
  },
  {
   "cell_type": "code",
   "execution_count": 88,
   "metadata": {},
   "outputs": [
    {
     "name": "stdout",
     "output_type": "stream",
     "text": [
      "232792.96352449784 {'max_features': 2, 'n_estimators': 3}\n",
      "201549.60211480776 {'max_features': 2, 'n_estimators': 10}\n",
      "188068.49082496378 {'max_features': 2, 'n_estimators': 30}\n",
      "189232.35006709577 {'max_features': 2, 'n_estimators': 50}\n",
      "187073.0582519298 {'max_features': 2, 'n_estimators': 100}\n",
      "205808.9581593345 {'max_features': 4, 'n_estimators': 3}\n",
      "181267.66438834424 {'max_features': 4, 'n_estimators': 10}\n",
      "171194.03710638089 {'max_features': 4, 'n_estimators': 30}\n",
      "170797.26930543128 {'max_features': 4, 'n_estimators': 50}\n",
      "167760.16933548177 {'max_features': 4, 'n_estimators': 100}\n",
      "194952.26225190004 {'max_features': 6, 'n_estimators': 3}\n",
      "166762.3494188821 {'max_features': 6, 'n_estimators': 10}\n",
      "162047.98351396344 {'max_features': 6, 'n_estimators': 30}\n",
      "160100.21081495882 {'max_features': 6, 'n_estimators': 50}\n",
      "158136.12307262028 {'max_features': 6, 'n_estimators': 100}\n",
      "187481.7612448229 {'max_features': 8, 'n_estimators': 3}\n",
      "161578.25409965977 {'max_features': 8, 'n_estimators': 10}\n",
      "154493.96468927525 {'max_features': 8, 'n_estimators': 30}\n",
      "153824.59775718985 {'max_features': 8, 'n_estimators': 50}\n",
      "153016.04031574147 {'max_features': 8, 'n_estimators': 100}\n",
      "182908.49452485208 {'max_features': 12, 'n_estimators': 3}\n",
      "153054.03542443214 {'max_features': 12, 'n_estimators': 10}\n",
      "145769.50817563725 {'max_features': 12, 'n_estimators': 30}\n",
      "145723.1514076709 {'max_features': 12, 'n_estimators': 50}\n",
      "144370.57828250492 {'max_features': 12, 'n_estimators': 100}\n",
      "229203.64362342304 {'bootstrap': False, 'max_features': 2, 'n_estimators': 3}\n",
      "193496.35326228064 {'bootstrap': False, 'max_features': 2, 'n_estimators': 10}\n",
      "217525.11952977718 {'bootstrap': False, 'max_features': 3, 'n_estimators': 3}\n",
      "184914.00347420003 {'bootstrap': False, 'max_features': 3, 'n_estimators': 10}\n",
      "202050.15735854616 {'bootstrap': False, 'max_features': 4, 'n_estimators': 3}\n",
      "172318.8967200664 {'bootstrap': False, 'max_features': 4, 'n_estimators': 10}\n"
     ]
    }
   ],
   "source": [
    "# let's check how was the performance of each of the hyperparameter\n",
    "cvres = grid_search.cv_results_\n",
    "for mean_score, params in zip(cvres[\"mean_test_score\"], cvres[\"params\"]):\n",
    "    print(np.sqrt(-mean_score), params)"
   ]
  },
  {
   "cell_type": "code",
   "execution_count": 94,
   "metadata": {},
   "outputs": [
    {
     "data": {
      "text/plain": [
       "RandomForestRegressor(bootstrap=True, criterion='mse', max_depth=None,\n",
       "                      max_features='auto', max_leaf_nodes=None,\n",
       "                      min_impurity_decrease=0.0, min_impurity_split=None,\n",
       "                      min_samples_leaf=1, min_samples_split=2,\n",
       "                      min_weight_fraction_leaf=0.0, n_estimators=100,\n",
       "                      n_jobs=None, oob_score=False, random_state=None,\n",
       "                      verbose=0, warm_start=False)"
      ]
     },
     "execution_count": 94,
     "metadata": {},
     "output_type": "execute_result"
    }
   ],
   "source": [
    "#as for now we are going to train the data on both the simplified version and the grid search one\n",
    "forest_reg=RandomForestRegressor(n_estimators=100)\n",
    "forest_reg.fit(housing_prepared,housing_label)"
   ]
  },
  {
   "cell_type": "markdown",
   "metadata": {},
   "source": [
    "# Evaluation on Test set"
   ]
  },
  {
   "cell_type": "code",
   "execution_count": 95,
   "metadata": {},
   "outputs": [],
   "source": [
    "test_prepared=full_pipeline.transform(X_test)"
   ]
  },
  {
   "cell_type": "code",
   "execution_count": 97,
   "metadata": {},
   "outputs": [],
   "source": [
    "y_pred_forest=forest_reg.predict(test_prepared)"
   ]
  },
  {
   "cell_type": "code",
   "execution_count": 98,
   "metadata": {},
   "outputs": [
    {
     "data": {
      "text/plain": [
       "132612.2495281664"
      ]
     },
     "execution_count": 98,
     "metadata": {},
     "output_type": "execute_result"
    }
   ],
   "source": [
    "np.sqrt(mean_squared_error(y_test,y_pred_forest))"
   ]
  },
  {
   "cell_type": "code",
   "execution_count": 99,
   "metadata": {},
   "outputs": [],
   "source": [
    "y_pred_gscv=grid_search.predict(test_prepared)"
   ]
  },
  {
   "cell_type": "code",
   "execution_count": 100,
   "metadata": {},
   "outputs": [
    {
     "data": {
      "text/plain": [
       "143827.30834848166"
      ]
     },
     "execution_count": 100,
     "metadata": {},
     "output_type": "execute_result"
    }
   ],
   "source": [
    "np.sqrt(mean_squared_error(y_test,y_pred_gscv))"
   ]
  },
  {
   "cell_type": "code",
   "execution_count": 101,
   "metadata": {},
   "outputs": [],
   "source": [
    "#we are going to keep the normal model as it performed better on the test data"
   ]
  },
  {
   "cell_type": "code",
   "execution_count": 104,
   "metadata": {},
   "outputs": [],
   "source": [
    "#let's combine the data transformation step and the prediction step into one clean pipeline\n",
    "final_pipeline=Pipeline(steps=[(\"preprocessing\",full_pipeline),\n",
    "                              (\"forest_reg\",RandomForestRegressor(n_estimators=100))\n",
    "    \n",
    "])"
   ]
  },
  {
   "cell_type": "code",
   "execution_count": 115,
   "metadata": {},
   "outputs": [],
   "source": [
    "check_data=strat_train_set.copy()\n",
    "check_data_label=check_data['price'].copy()\n",
    "check_data.drop('price',axis=1,inplace=True)"
   ]
  },
  {
   "cell_type": "code",
   "execution_count": 116,
   "metadata": {},
   "outputs": [
    {
     "data": {
      "text/plain": [
       "Pipeline(memory=None,\n",
       "         steps=[('preprocessing',\n",
       "                 FeatureUnion(n_jobs=None,\n",
       "                              transformer_list=[('categorical_pipeline',\n",
       "                                                 Pipeline(memory=None,\n",
       "                                                          steps=[('cat_feature_selector',\n",
       "                                                                  FeatureSelector(feature_names=None)),\n",
       "                                                                 ('cat_transformer',\n",
       "                                                                  categorical_transformer()),\n",
       "                                                                 ('one_hot_encoder',\n",
       "                                                                  OneHotEncoder(categorical_features=None,\n",
       "                                                                                categories=None,\n",
       "                                                                                drop=None,\n",
       "                                                                                dtype=<class 'numpy...\n",
       "                              transformer_weights=None, verbose=False)),\n",
       "                ('forest_reg',\n",
       "                 RandomForestRegressor(bootstrap=True, criterion='mse',\n",
       "                                       max_depth=None, max_features='auto',\n",
       "                                       max_leaf_nodes=None,\n",
       "                                       min_impurity_decrease=0.0,\n",
       "                                       min_impurity_split=None,\n",
       "                                       min_samples_leaf=1, min_samples_split=2,\n",
       "                                       min_weight_fraction_leaf=0.0,\n",
       "                                       n_estimators=100, n_jobs=None,\n",
       "                                       oob_score=False, random_state=None,\n",
       "                                       verbose=0, warm_start=False))],\n",
       "         verbose=False)"
      ]
     },
     "execution_count": 116,
     "metadata": {},
     "output_type": "execute_result"
    }
   ],
   "source": [
    "final_pipeline.fit(check_data,check_data_label)"
   ]
  },
  {
   "cell_type": "code",
   "execution_count": null,
   "metadata": {},
   "outputs": [],
   "source": []
  }
 ],
 "metadata": {
  "kernelspec": {
   "display_name": "Python 3",
   "language": "python",
   "name": "python3"
  },
  "language_info": {
   "codemirror_mode": {
    "name": "ipython",
    "version": 3
   },
   "file_extension": ".py",
   "mimetype": "text/x-python",
   "name": "python",
   "nbconvert_exporter": "python",
   "pygments_lexer": "ipython3",
   "version": "3.7.7"
  }
 },
 "nbformat": 4,
 "nbformat_minor": 4
}
